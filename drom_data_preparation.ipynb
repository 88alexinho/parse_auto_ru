{
 "cells": [
  {
   "cell_type": "code",
   "execution_count": 703,
   "metadata": {},
   "outputs": [],
   "source": [
    "import pandas as pd"
   ]
  },
  {
   "cell_type": "code",
   "execution_count": 704,
   "metadata": {},
   "outputs": [
    {
     "data": {
      "application/vnd.microsoft.datawrangler.viewer.v0+json": {
       "columns": [
        {
         "name": "index",
         "rawType": "int64",
         "type": "integer"
        },
        {
         "name": "name",
         "rawType": "object",
         "type": "string"
        },
        {
         "name": "link",
         "rawType": "object",
         "type": "string"
        },
        {
         "name": "parameters",
         "rawType": "object",
         "type": "string"
        },
        {
         "name": "city",
         "rawType": "object",
         "type": "string"
        },
        {
         "name": "price_rub",
         "rawType": "object",
         "type": "string"
        }
       ],
       "conversionMethod": "pd.DataFrame",
       "ref": "84ffff85-b02d-41cd-b989-c072081c08ce",
       "rows": [
        [
         "0",
         "Geely Emgrand EC7, 2013",
         "https://auto.drom.ru/omsk/geely/emgrand/826395034.html",
         "1.8 л (126 л.с.), бензин, вариатор, передний, 147 000 км",
         "Омск",
         "529 000₽"
        ],
        [
         "1",
         "Geely Emgrand EC7, 2013",
         "https://auto.drom.ru/ekaterinburg/geely/emgrand/892079345.html",
         "1.8 л (126 л.с.), бензин, механика, передний, 156 500 км",
         "Екатеринбург",
         "390 000₽"
        ],
        [
         "2",
         "Geely Emgrand EC7, 2013",
         "https://auto.drom.ru/volgograd/geely/emgrand/481057043.html",
         "1.5 л (98 л.с.), бензин, механика, передний, 146 521 км",
         "Волгоград",
         "539 000₽"
        ],
        [
         "3",
         "Geely Emgrand EC7, 2012",
         "https://auto.drom.ru/simferopol/geely/emgrand/480445122.html",
         "1.8 л (126 л.с.), бензин, механика, передний, 122 000 км",
         "Симферополь",
         "700 000₽"
        ],
        [
         "4",
         "Geely Emgrand EC7, 2013",
         "https://auto.drom.ru/saratov/geely/emgrand/898082307.html",
         "1.8 л (126 л.с.), бензин, механика, передний, 175 000 км",
         "Саратов",
         "290 000₽"
        ],
        [
         "5",
         "Geely Emgrand EC7, 2016",
         "https://auto.drom.ru/saratov/geely/emgrand/302453412.html",
         "1.8 л (126 л.с.), бензин, механика, передний, 102 000 км",
         "Саратов",
         "725 000₽"
        ],
        [
         "6",
         "Geely Emgrand EC7, 2013",
         "https://auto.drom.ru/kemerovo/geely/emgrand/439696011.html",
         "1.8 л (126 л.с.), бензин, механика, передний, 126 994 км",
         "Кемерово",
         "459 999₽"
        ],
        [
         "7",
         "Geely Emgrand EC7, 2019",
         "https://auto.drom.ru/surgut/geely/emgrand/871004110.html",
         "1.5 л (103 л.с.), бензин, механика, передний, 64 000 км",
         "Сургут",
         "870 000₽"
        ],
        [
         "8",
         "Geely Emgrand EC7, 2013",
         "https://auto.drom.ru/vologda/geely/emgrand/270878866.html",
         "1.8 л (126 л.с.), бензин, механика, передний",
         "Вологда",
         "370 000₽"
        ],
        [
         "9",
         "Geely Emgrand EC7, 2016",
         "https://auto.drom.ru/simferopol/geely/emgrand/914538924.html",
         "1.8 л (129 л.с.), бензин, вариатор, передний",
         "Симферополь",
         "760 000₽"
        ],
        [
         "10",
         "Geely Emgrand EC7, 2014",
         "https://auto.drom.ru/simferopol/geely/emgrand/551630137.html",
         "1.5 л (98 л.с.), бензин, механика, передний",
         "Симферополь",
         "450 000₽"
        ],
        [
         "11",
         "Geely Emgrand EC7, 2013",
         "https://auto.drom.ru/orenburg/geely/emgrand/105100076.html",
         "1.8 л (126 л.с.), бензин, механика, передний, 220 000 км",
         "Оренбург",
         "380 000₽"
        ],
        [
         "12",
         "Geely Emgrand EC7, 2013",
         "https://auto.drom.ru/cheboksary/geely/emgrand/491507228.html",
         "1.5 л (98 л.с.), бензин, механика, передний, 125 000 км",
         "Чебоксары",
         "500 000₽"
        ],
        [
         "13",
         "Geely Emgrand EC7, 2019",
         "https://auto.drom.ru/omsk/geely/emgrand/540127001.html",
         "1.8 л (133 л.с.), бензин, вариатор, передний, 43 000 км",
         "Омск",
         "1 200 000₽"
        ],
        [
         "14",
         "Geely Emgrand EC7, 2013",
         "https://auto.drom.ru/kazan/geely/emgrand/210847184.html",
         "1.5 л (98 л.с.), бензин, механика, передний, 104 771 км",
         "Казань",
         "400 000₽"
        ],
        [
         "15",
         "Geely Emgrand EC7, 2011",
         "https://auto.drom.ru/simferopol/geely/emgrand/331742700.html",
         "1.8 л (126 л.с.), бензин, механика, передний, 227 343 км",
         "Симферополь",
         "550 000₽"
        ],
        [
         "16",
         "Geely Emgrand EC7, 2013",
         "https://auto.drom.ru/mamontovo/geely/emgrand/149081335.html",
         "1.5 л (98 л.с.), бензин, механика, передний, 100 000 км",
         "Мамонтово",
         "650 000₽"
        ],
        [
         "17",
         "Geely Emgrand EC7, 2014",
         "https://auto.drom.ru/omsk/geely/emgrand/820331057.html",
         "1.8 л (126 л.с.), бензин, вариатор, передний, 70 000 км",
         "Омск",
         "689 000₽"
        ],
        [
         "18",
         "Geely Emgrand EC7, 2014",
         "https://auto.drom.ru/naberezhnye-chelny/geely/emgrand/310010346.html",
         "1.5 л (98 л.с.), бензин, механика, передний, 128 888 км",
         "Набережные Челны",
         "280 000₽"
        ],
        [
         "19",
         "Geely Emgrand EC7, 2019",
         "https://auto.drom.ru/feodosiya/geely/emgrand/549308562.html",
         "1.8 л (133 л.с.), бензин, механика, передний, 87 000 км",
         "Феодосия",
         "1 170 000₽"
        ],
        [
         "20",
         "Geely Emgrand EC7, 2014",
         "https://auto.drom.ru/noviy-oskol/geely/emgrand/872539105.html",
         "1.8 л (126 л.с.), бензин, механика, передний",
         "Новый Оскол",
         "365 000₽"
        ],
        [
         "21",
         "Geely Emgrand EC7, 2014",
         "https://auto.drom.ru/anapa/geely/emgrand/493791226.html",
         "1.8 л (126 л.с.), бензин, механика, передний, 600 000 км",
         "Анапа",
         "570 000₽"
        ],
        [
         "22",
         "Geely Emgrand EC7, 2013",
         "https://auto.drom.ru/chelyabinsk/geely/emgrand/186326053.html",
         "1.5 л (98 л.с.), бензин, механика, передний, 85 000 км",
         "Челябинск",
         "450 000₽"
        ],
        [
         "23",
         "Geely Emgrand EC7, 2013",
         "https://auto.drom.ru/omsk/geely/emgrand/340066292.html",
         "1.8 л (126 л.с.), бензин, вариатор, передний, 47 700 км",
         "Омск",
         "490 000₽"
        ],
        [
         "24",
         "Geely Emgrand EC7, 2014",
         "https://auto.drom.ru/omsk/geely/emgrand/732266429.html",
         "1.5 л (98 л.с.), бензин, механика, передний, 176 000 км",
         "Омск",
         "425 000₽"
        ],
        [
         "25",
         "Geely Emgrand EC7, 2013",
         "https://auto.drom.ru/omsk/geely/emgrand/313162738.html",
         "1.8 л (126 л.с.), бензин, механика, передний, 145 000 км",
         "Омск",
         "445 000₽"
        ],
        [
         "26",
         "Geely Emgrand EC7, 2014",
         "https://auto.drom.ru/barnaul/geely/emgrand/233635542.html",
         "1.8 л (126 л.с.), бензин, вариатор, передний, 15 000 км",
         "Барнаул",
         "700 000₽"
        ],
        [
         "27",
         "Geely Emgrand EC7, 2013",
         "https://auto.drom.ru/abakan/geely/emgrand/399181703.html",
         "1.8 л (126 л.с.), бензин, вариатор, передний, 135 000 км",
         "Абакан",
         "599 000₽"
        ],
        [
         "28",
         "Geely Emgrand EC7, 2013",
         "https://auto.drom.ru/simferopol/geely/emgrand/686557673.html",
         "1.8 л (126 л.с.), бензин, вариатор, передний, 177 800 км",
         "Симферополь",
         "510 000₽"
        ],
        [
         "29",
         "Geely Emgrand EC7, 2013",
         "https://auto.drom.ru/ishim/geely/emgrand/679378834.html",
         "1.5 л (98 л.с.), бензин, механика, передний, 320 000 км",
         "Ишим",
         "420 000₽"
        ],
        [
         "30",
         "Geely Emgrand EC7, 2016",
         "https://auto.drom.ru/ufa/geely/emgrand/676712172.html",
         "1.8 л (126 л.с.), бензин, вариатор, передний, 162 900 км",
         "Уфа",
         "610 000₽"
        ],
        [
         "31",
         "Geely Emgrand EC7, 2013",
         "https://auto.drom.ru/polysaevo/geely/emgrand/672432490.html",
         "1.8 л (126 л.с.), бензин, механика, передний, 255 000 км",
         "Полысаево",
         "360 000₽"
        ],
        [
         "32",
         "Geely Emgrand EC7, 2013",
         "https://auto.drom.ru/tyumen/geely/emgrand/486211118.html",
         "1.8 л (126 л.с.), бензин, механика, передний, 101 200 км",
         "Тюмень",
         "400 000₽"
        ],
        [
         "33",
         "Geely Emgrand EC7, 2013",
         "https://auto.drom.ru/ekaterinburg/geely/emgrand/464358049.html",
         "1.5 л (98 л.с.), бензин, механика, передний, 130 000 км",
         "Екатеринбург",
         "600 000₽"
        ],
        [
         "34",
         "Geely Emgrand EC7, 2014",
         "https://auto.drom.ru/barnaul/geely/emgrand/446347624.html",
         "1.8 л (126 л.с.), бензин, вариатор, передний, 130 000 км",
         "Барнаул",
         "595 000₽"
        ],
        [
         "35",
         "Geely Emgrand EC7, 2013",
         "https://auto.drom.ru/lenino-krym/geely/emgrand/385453380.html",
         "1.8 л (126 л.с.), бензин, механика, передний, 248 339 км",
         "Ленино",
         "650 000₽"
        ],
        [
         "36",
         "Geely Emgrand EC7, 2014",
         "https://auto.drom.ru/chelyabinsk/geely/emgrand/330396482.html",
         "1.5 л (98 л.с.), бензин, механика, передний, 215 000 км",
         "Челябинск",
         "333 000₽"
        ],
        [
         "37",
         "Geely Emgrand EC7, 2014",
         "https://auto.drom.ru/tyumen/geely/emgrand/276109684.html",
         "1.5 л (98 л.с.), бензин, механика, передний, 187 000 км",
         "Тюмень",
         "425 000₽"
        ],
        [
         "38",
         "Geely Emgrand EC7, 2014",
         "https://auto.drom.ru/demidov/geely/emgrand/237456193.html",
         "1.8 л (126 л.с.), бензин, механика, передний, 139 000 км",
         "Демидов",
         "250 000₽"
        ],
        [
         "39",
         "Geely Emgrand EC7, 2014",
         "https://auto.drom.ru/omsk/geely/emgrand/134359836.html",
         "1.5 л (98 л.с.), бензин, механика, передний, 135 000 км",
         "Омск",
         "359 000₽"
        ],
        [
         "40",
         "Geely Emgrand EC7, 2013",
         "https://auto.drom.ru/salsk/geely/emgrand/53099518.html",
         "1.8 л (126 л.с.), бензин, механика, передний, 157 000 км",
         "Сальск",
         "799 900₽"
        ],
        [
         "41",
         "Geely Emgrand EC7, 2016",
         "https://auto.drom.ru/almetievsk/geely/emgrand/915114496.html",
         "1.8 л (126 л.с.), бензин, вариатор, передний, 187 240 км",
         "Альметьевск",
         "646 600₽"
        ],
        [
         "42",
         "Geely Emgrand EC7, 2013",
         "https://auto.drom.ru/chernomorskoe/geely/emgrand/615269795.html",
         "1.8 л (126 л.с.), бензин, механика, передний, 200 км",
         "Черноморское",
         "599 999₽"
        ],
        [
         "43",
         "Geely Emgrand EC7, 2013",
         "https://auto.drom.ru/ekaterinburg/geely/emgrand/561081391.html",
         "1.8 л (126 л.с.), бензин, вариатор, передний, 195 000 км",
         "Екатеринбург",
         "400 000₽"
        ],
        [
         "44",
         "Geely Emgrand EC7, 2014",
         "https://auto.drom.ru/simferopol/geely/emgrand/166859189.html",
         "1.8 л (126 л.с.), бензин, механика, передний, 130 000 км",
         "Симферополь",
         "790 000₽"
        ],
        [
         "45",
         "Geely Emgrand EC7, 2014",
         "https://auto.drom.ru/magnitogorsk/geely/emgrand/895139098.html",
         "1.8 л (126 л.с.), бензин, вариатор, передний, 157 851 км",
         "Магнитогорск",
         "540 000₽"
        ],
        [
         "46",
         "Geely Emgrand EC7, 2013",
         "https://auto.drom.ru/orenburg/geely/emgrand/105426774.html",
         "1.8 л (126 л.с.), бензин, вариатор, передний, 184 970 км",
         "Оренбург",
         "319 000₽"
        ],
        [
         "47",
         "Geely Emgrand EC7, 2014",
         "https://auto.drom.ru/barnaul/geely/emgrand/561762040.html",
         "1.8 л (126 л.с.), бензин, вариатор, передний, 166 000 км",
         "Барнаул",
         "470 000₽"
        ],
        [
         "48",
         "Geely Emgrand EC7, 2013",
         "https://auto.drom.ru/krasnodar/geely/emgrand/760779129.html",
         "1.8 л (126 л.с.), бензин, механика, передний, 177 000 км",
         "Краснодар",
         "560 000₽"
        ],
        [
         "49",
         "Geely Emgrand EC7, 2014",
         "https://auto.drom.ru/omsk/geely/emgrand/421378983.html",
         "1.5 л (98 л.с.), бензин, механика, передний, 198 000 км",
         "Омск",
         "300 000₽"
        ]
       ],
       "shape": {
        "columns": 5,
        "rows": 499
       }
      },
      "text/html": [
       "<div>\n",
       "<style scoped>\n",
       "    .dataframe tbody tr th:only-of-type {\n",
       "        vertical-align: middle;\n",
       "    }\n",
       "\n",
       "    .dataframe tbody tr th {\n",
       "        vertical-align: top;\n",
       "    }\n",
       "\n",
       "    .dataframe thead th {\n",
       "        text-align: right;\n",
       "    }\n",
       "</style>\n",
       "<table border=\"1\" class=\"dataframe\">\n",
       "  <thead>\n",
       "    <tr style=\"text-align: right;\">\n",
       "      <th></th>\n",
       "      <th>name</th>\n",
       "      <th>link</th>\n",
       "      <th>parameters</th>\n",
       "      <th>city</th>\n",
       "      <th>price_rub</th>\n",
       "    </tr>\n",
       "  </thead>\n",
       "  <tbody>\n",
       "    <tr>\n",
       "      <th>0</th>\n",
       "      <td>Geely Emgrand EC7, 2013</td>\n",
       "      <td>https://auto.drom.ru/omsk/geely/emgrand/826395...</td>\n",
       "      <td>1.8 л (126 л.с.), бензин, вариатор, передний, ...</td>\n",
       "      <td>Омск</td>\n",
       "      <td>529 000₽</td>\n",
       "    </tr>\n",
       "    <tr>\n",
       "      <th>1</th>\n",
       "      <td>Geely Emgrand EC7, 2013</td>\n",
       "      <td>https://auto.drom.ru/ekaterinburg/geely/emgran...</td>\n",
       "      <td>1.8 л (126 л.с.), бензин, механика, передний, ...</td>\n",
       "      <td>Екатеринбург</td>\n",
       "      <td>390 000₽</td>\n",
       "    </tr>\n",
       "    <tr>\n",
       "      <th>2</th>\n",
       "      <td>Geely Emgrand EC7, 2013</td>\n",
       "      <td>https://auto.drom.ru/volgograd/geely/emgrand/4...</td>\n",
       "      <td>1.5 л (98 л.с.), бензин, механика, передний, 1...</td>\n",
       "      <td>Волгоград</td>\n",
       "      <td>539 000₽</td>\n",
       "    </tr>\n",
       "    <tr>\n",
       "      <th>3</th>\n",
       "      <td>Geely Emgrand EC7, 2012</td>\n",
       "      <td>https://auto.drom.ru/simferopol/geely/emgrand/...</td>\n",
       "      <td>1.8 л (126 л.с.), бензин, механика, передний, ...</td>\n",
       "      <td>Симферополь</td>\n",
       "      <td>700 000₽</td>\n",
       "    </tr>\n",
       "    <tr>\n",
       "      <th>4</th>\n",
       "      <td>Geely Emgrand EC7, 2013</td>\n",
       "      <td>https://auto.drom.ru/saratov/geely/emgrand/898...</td>\n",
       "      <td>1.8 л (126 л.с.), бензин, механика, передний, ...</td>\n",
       "      <td>Саратов</td>\n",
       "      <td>290 000₽</td>\n",
       "    </tr>\n",
       "    <tr>\n",
       "      <th>...</th>\n",
       "      <td>...</td>\n",
       "      <td>...</td>\n",
       "      <td>...</td>\n",
       "      <td>...</td>\n",
       "      <td>...</td>\n",
       "    </tr>\n",
       "    <tr>\n",
       "      <th>494</th>\n",
       "      <td>Geely Emgrand EC7, 2012</td>\n",
       "      <td>https://auto.drom.ru/tyumen/geely/emgrand/2632...</td>\n",
       "      <td>1.8 л (126 л.с.), бензин, механика, передний, ...</td>\n",
       "      <td>Тюмень</td>\n",
       "      <td>300 000₽</td>\n",
       "    </tr>\n",
       "    <tr>\n",
       "      <th>495</th>\n",
       "      <td>Geely Emgrand EC7, 2014</td>\n",
       "      <td>https://auto.drom.ru/simferopol/geely/emgrand/...</td>\n",
       "      <td>1.8 л (126 л.с.), бензин, вариатор, передний, ...</td>\n",
       "      <td>Симферополь</td>\n",
       "      <td>650 000₽</td>\n",
       "    </tr>\n",
       "    <tr>\n",
       "      <th>496</th>\n",
       "      <td>Geely Emgrand EC7, 2013</td>\n",
       "      <td>https://auto.drom.ru/volgograd/geely/emgrand/5...</td>\n",
       "      <td>1.5 л (98 л.с.), бензин, механика, передний, 1...</td>\n",
       "      <td>Волгоград</td>\n",
       "      <td>499 000₽</td>\n",
       "    </tr>\n",
       "    <tr>\n",
       "      <th>497</th>\n",
       "      <td>Geely Emgrand EC7, 2014</td>\n",
       "      <td>https://auto.drom.ru/chelyabinsk/geely/emgrand...</td>\n",
       "      <td>1.8 л (126 л.с.), бензин, вариатор, передний, ...</td>\n",
       "      <td>Челябинск</td>\n",
       "      <td>175 000₽</td>\n",
       "    </tr>\n",
       "    <tr>\n",
       "      <th>498</th>\n",
       "      <td>Geely Emgrand EC7, 2014</td>\n",
       "      <td>https://auto.drom.ru/tyumen/geely/emgrand/5085...</td>\n",
       "      <td>1.8 л (126 л.с.), бензин, механика, передний, ...</td>\n",
       "      <td>Тюмень</td>\n",
       "      <td>550 000₽</td>\n",
       "    </tr>\n",
       "  </tbody>\n",
       "</table>\n",
       "<p>499 rows × 5 columns</p>\n",
       "</div>"
      ],
      "text/plain": [
       "                        name  \\\n",
       "0    Geely Emgrand EC7, 2013   \n",
       "1    Geely Emgrand EC7, 2013   \n",
       "2    Geely Emgrand EC7, 2013   \n",
       "3    Geely Emgrand EC7, 2012   \n",
       "4    Geely Emgrand EC7, 2013   \n",
       "..                       ...   \n",
       "494  Geely Emgrand EC7, 2012   \n",
       "495  Geely Emgrand EC7, 2014   \n",
       "496  Geely Emgrand EC7, 2013   \n",
       "497  Geely Emgrand EC7, 2014   \n",
       "498  Geely Emgrand EC7, 2014   \n",
       "\n",
       "                                                  link  \\\n",
       "0    https://auto.drom.ru/omsk/geely/emgrand/826395...   \n",
       "1    https://auto.drom.ru/ekaterinburg/geely/emgran...   \n",
       "2    https://auto.drom.ru/volgograd/geely/emgrand/4...   \n",
       "3    https://auto.drom.ru/simferopol/geely/emgrand/...   \n",
       "4    https://auto.drom.ru/saratov/geely/emgrand/898...   \n",
       "..                                                 ...   \n",
       "494  https://auto.drom.ru/tyumen/geely/emgrand/2632...   \n",
       "495  https://auto.drom.ru/simferopol/geely/emgrand/...   \n",
       "496  https://auto.drom.ru/volgograd/geely/emgrand/5...   \n",
       "497  https://auto.drom.ru/chelyabinsk/geely/emgrand...   \n",
       "498  https://auto.drom.ru/tyumen/geely/emgrand/5085...   \n",
       "\n",
       "                                            parameters          city price_rub  \n",
       "0    1.8 л (126 л.с.), бензин, вариатор, передний, ...          Омск  529 000₽  \n",
       "1    1.8 л (126 л.с.), бензин, механика, передний, ...  Екатеринбург  390 000₽  \n",
       "2    1.5 л (98 л.с.), бензин, механика, передний, 1...     Волгоград  539 000₽  \n",
       "3    1.8 л (126 л.с.), бензин, механика, передний, ...   Симферополь  700 000₽  \n",
       "4    1.8 л (126 л.с.), бензин, механика, передний, ...       Саратов  290 000₽  \n",
       "..                                                 ...           ...       ...  \n",
       "494  1.8 л (126 л.с.), бензин, механика, передний, ...        Тюмень  300 000₽  \n",
       "495  1.8 л (126 л.с.), бензин, вариатор, передний, ...   Симферополь  650 000₽  \n",
       "496  1.5 л (98 л.с.), бензин, механика, передний, 1...     Волгоград  499 000₽  \n",
       "497  1.8 л (126 л.с.), бензин, вариатор, передний, ...     Челябинск  175 000₽  \n",
       "498  1.8 л (126 л.с.), бензин, механика, передний, ...        Тюмень  550 000₽  \n",
       "\n",
       "[499 rows x 5 columns]"
      ]
     },
     "execution_count": 704,
     "metadata": {},
     "output_type": "execute_result"
    }
   ],
   "source": [
    "df = pd.read_csv('cars.csv',delimiter=';')\n",
    "df"
   ]
  },
  {
   "cell_type": "code",
   "execution_count": 705,
   "metadata": {},
   "outputs": [],
   "source": [
    "df[['brand','year']] = df['name'].str.split(',',expand=True)"
   ]
  },
  {
   "cell_type": "code",
   "execution_count": 706,
   "metadata": {},
   "outputs": [
    {
     "data": {
      "text/plain": [
       "'1.8 л (126 л.с.), бензин, вариатор, передний, 147 000 км'"
      ]
     },
     "execution_count": 706,
     "metadata": {},
     "output_type": "execute_result"
    }
   ],
   "source": [
    "df.parameters[0]"
   ]
  },
  {
   "cell_type": "code",
   "execution_count": 707,
   "metadata": {},
   "outputs": [],
   "source": [
    "df[['hp','eng_type','transmisson_type','drive_type','mill','col']] = df.parameters.str.split(',',expand=True)"
   ]
  },
  {
   "cell_type": "code",
   "execution_count": 708,
   "metadata": {},
   "outputs": [],
   "source": [
    "df = df.drop(['parameters','name'],axis=1)"
   ]
  },
  {
   "cell_type": "code",
   "execution_count": 709,
   "metadata": {},
   "outputs": [],
   "source": [
    "df.fillna(0, inplace=True)\n",
    "df['price_rub'] = df['price_rub'].str[:-1]"
   ]
  },
  {
   "cell_type": "code",
   "execution_count": 710,
   "metadata": {},
   "outputs": [],
   "source": [
    "сolumn_names = [\"brand\", \"year\", \"price_rub\",'city','link','eng_type','hp','drive_type','transmisson_type']\n",
    "\n",
    "df = df.reindex(columns=сolumn_names)"
   ]
  },
  {
   "cell_type": "code",
   "execution_count": 711,
   "metadata": {},
   "outputs": [
    {
     "data": {
      "application/vnd.microsoft.datawrangler.viewer.v0+json": {
       "columns": [
        {
         "name": "index",
         "rawType": "int64",
         "type": "integer"
        },
        {
         "name": "brand",
         "rawType": "object",
         "type": "string"
        },
        {
         "name": "year",
         "rawType": "object",
         "type": "string"
        },
        {
         "name": "price_rub",
         "rawType": "object",
         "type": "string"
        },
        {
         "name": "city",
         "rawType": "object",
         "type": "string"
        },
        {
         "name": "link",
         "rawType": "object",
         "type": "string"
        },
        {
         "name": "eng_type",
         "rawType": "object",
         "type": "string"
        },
        {
         "name": "hp",
         "rawType": "object",
         "type": "string"
        },
        {
         "name": "drive_type",
         "rawType": "object",
         "type": "string"
        },
        {
         "name": "transmisson_type",
         "rawType": "object",
         "type": "string"
        }
       ],
       "conversionMethod": "pd.DataFrame",
       "ref": "8b81c9ae-6705-44e2-b123-1df76b3bf61a",
       "rows": [
        [
         "0",
         "Geely Emgrand EC7",
         " 2013",
         "529 000",
         "Омск",
         "https://auto.drom.ru/omsk/geely/emgrand/826395034.html",
         " бензин",
         "1.8 л (126 л.с.)",
         " передний",
         " вариатор"
        ],
        [
         "1",
         "Geely Emgrand EC7",
         " 2013",
         "390 000",
         "Екатеринбург",
         "https://auto.drom.ru/ekaterinburg/geely/emgrand/892079345.html",
         " бензин",
         "1.8 л (126 л.с.)",
         " передний",
         " механика"
        ],
        [
         "2",
         "Geely Emgrand EC7",
         " 2013",
         "539 000",
         "Волгоград",
         "https://auto.drom.ru/volgograd/geely/emgrand/481057043.html",
         " бензин",
         "1.5 л (98 л.с.)",
         " передний",
         " механика"
        ],
        [
         "3",
         "Geely Emgrand EC7",
         " 2012",
         "700 000",
         "Симферополь",
         "https://auto.drom.ru/simferopol/geely/emgrand/480445122.html",
         " бензин",
         "1.8 л (126 л.с.)",
         " передний",
         " механика"
        ],
        [
         "4",
         "Geely Emgrand EC7",
         " 2013",
         "290 000",
         "Саратов",
         "https://auto.drom.ru/saratov/geely/emgrand/898082307.html",
         " бензин",
         "1.8 л (126 л.с.)",
         " передний",
         " механика"
        ],
        [
         "5",
         "Geely Emgrand EC7",
         " 2016",
         "725 000",
         "Саратов",
         "https://auto.drom.ru/saratov/geely/emgrand/302453412.html",
         " бензин",
         "1.8 л (126 л.с.)",
         " передний",
         " механика"
        ],
        [
         "6",
         "Geely Emgrand EC7",
         " 2013",
         "459 999",
         "Кемерово",
         "https://auto.drom.ru/kemerovo/geely/emgrand/439696011.html",
         " бензин",
         "1.8 л (126 л.с.)",
         " передний",
         " механика"
        ],
        [
         "7",
         "Geely Emgrand EC7",
         " 2019",
         "870 000",
         "Сургут",
         "https://auto.drom.ru/surgut/geely/emgrand/871004110.html",
         " бензин",
         "1.5 л (103 л.с.)",
         " передний",
         " механика"
        ],
        [
         "8",
         "Geely Emgrand EC7",
         " 2013",
         "370 000",
         "Вологда",
         "https://auto.drom.ru/vologda/geely/emgrand/270878866.html",
         " бензин",
         "1.8 л (126 л.с.)",
         " передний",
         " механика"
        ],
        [
         "9",
         "Geely Emgrand EC7",
         " 2016",
         "760 000",
         "Симферополь",
         "https://auto.drom.ru/simferopol/geely/emgrand/914538924.html",
         " бензин",
         "1.8 л (129 л.с.)",
         " передний",
         " вариатор"
        ],
        [
         "10",
         "Geely Emgrand EC7",
         " 2014",
         "450 000",
         "Симферополь",
         "https://auto.drom.ru/simferopol/geely/emgrand/551630137.html",
         " бензин",
         "1.5 л (98 л.с.)",
         " передний",
         " механика"
        ],
        [
         "11",
         "Geely Emgrand EC7",
         " 2013",
         "380 000",
         "Оренбург",
         "https://auto.drom.ru/orenburg/geely/emgrand/105100076.html",
         " бензин",
         "1.8 л (126 л.с.)",
         " передний",
         " механика"
        ],
        [
         "12",
         "Geely Emgrand EC7",
         " 2013",
         "500 000",
         "Чебоксары",
         "https://auto.drom.ru/cheboksary/geely/emgrand/491507228.html",
         " бензин",
         "1.5 л (98 л.с.)",
         " передний",
         " механика"
        ],
        [
         "13",
         "Geely Emgrand EC7",
         " 2019",
         "1 200 000",
         "Омск",
         "https://auto.drom.ru/omsk/geely/emgrand/540127001.html",
         " бензин",
         "1.8 л (133 л.с.)",
         " передний",
         " вариатор"
        ],
        [
         "14",
         "Geely Emgrand EC7",
         " 2013",
         "400 000",
         "Казань",
         "https://auto.drom.ru/kazan/geely/emgrand/210847184.html",
         " бензин",
         "1.5 л (98 л.с.)",
         " передний",
         " механика"
        ],
        [
         "15",
         "Geely Emgrand EC7",
         " 2011",
         "550 000",
         "Симферополь",
         "https://auto.drom.ru/simferopol/geely/emgrand/331742700.html",
         " бензин",
         "1.8 л (126 л.с.)",
         " передний",
         " механика"
        ],
        [
         "16",
         "Geely Emgrand EC7",
         " 2013",
         "650 000",
         "Мамонтово",
         "https://auto.drom.ru/mamontovo/geely/emgrand/149081335.html",
         " бензин",
         "1.5 л (98 л.с.)",
         " передний",
         " механика"
        ],
        [
         "17",
         "Geely Emgrand EC7",
         " 2014",
         "689 000",
         "Омск",
         "https://auto.drom.ru/omsk/geely/emgrand/820331057.html",
         " бензин",
         "1.8 л (126 л.с.)",
         " передний",
         " вариатор"
        ],
        [
         "18",
         "Geely Emgrand EC7",
         " 2014",
         "280 000",
         "Набережные Челны",
         "https://auto.drom.ru/naberezhnye-chelny/geely/emgrand/310010346.html",
         " бензин",
         "1.5 л (98 л.с.)",
         " передний",
         " механика"
        ],
        [
         "19",
         "Geely Emgrand EC7",
         " 2019",
         "1 170 000",
         "Феодосия",
         "https://auto.drom.ru/feodosiya/geely/emgrand/549308562.html",
         " бензин",
         "1.8 л (133 л.с.)",
         " передний",
         " механика"
        ],
        [
         "20",
         "Geely Emgrand EC7",
         " 2014",
         "365 000",
         "Новый Оскол",
         "https://auto.drom.ru/noviy-oskol/geely/emgrand/872539105.html",
         " бензин",
         "1.8 л (126 л.с.)",
         " передний",
         " механика"
        ],
        [
         "21",
         "Geely Emgrand EC7",
         " 2014",
         "570 000",
         "Анапа",
         "https://auto.drom.ru/anapa/geely/emgrand/493791226.html",
         " бензин",
         "1.8 л (126 л.с.)",
         " передний",
         " механика"
        ],
        [
         "22",
         "Geely Emgrand EC7",
         " 2013",
         "450 000",
         "Челябинск",
         "https://auto.drom.ru/chelyabinsk/geely/emgrand/186326053.html",
         " бензин",
         "1.5 л (98 л.с.)",
         " передний",
         " механика"
        ],
        [
         "23",
         "Geely Emgrand EC7",
         " 2013",
         "490 000",
         "Омск",
         "https://auto.drom.ru/omsk/geely/emgrand/340066292.html",
         " бензин",
         "1.8 л (126 л.с.)",
         " передний",
         " вариатор"
        ],
        [
         "24",
         "Geely Emgrand EC7",
         " 2014",
         "425 000",
         "Омск",
         "https://auto.drom.ru/omsk/geely/emgrand/732266429.html",
         " бензин",
         "1.5 л (98 л.с.)",
         " передний",
         " механика"
        ],
        [
         "25",
         "Geely Emgrand EC7",
         " 2013",
         "445 000",
         "Омск",
         "https://auto.drom.ru/omsk/geely/emgrand/313162738.html",
         " бензин",
         "1.8 л (126 л.с.)",
         " передний",
         " механика"
        ],
        [
         "26",
         "Geely Emgrand EC7",
         " 2014",
         "700 000",
         "Барнаул",
         "https://auto.drom.ru/barnaul/geely/emgrand/233635542.html",
         " бензин",
         "1.8 л (126 л.с.)",
         " передний",
         " вариатор"
        ],
        [
         "27",
         "Geely Emgrand EC7",
         " 2013",
         "599 000",
         "Абакан",
         "https://auto.drom.ru/abakan/geely/emgrand/399181703.html",
         " бензин",
         "1.8 л (126 л.с.)",
         " передний",
         " вариатор"
        ],
        [
         "28",
         "Geely Emgrand EC7",
         " 2013",
         "510 000",
         "Симферополь",
         "https://auto.drom.ru/simferopol/geely/emgrand/686557673.html",
         " бензин",
         "1.8 л (126 л.с.)",
         " передний",
         " вариатор"
        ],
        [
         "29",
         "Geely Emgrand EC7",
         " 2013",
         "420 000",
         "Ишим",
         "https://auto.drom.ru/ishim/geely/emgrand/679378834.html",
         " бензин",
         "1.5 л (98 л.с.)",
         " передний",
         " механика"
        ],
        [
         "30",
         "Geely Emgrand EC7",
         " 2016",
         "610 000",
         "Уфа",
         "https://auto.drom.ru/ufa/geely/emgrand/676712172.html",
         " бензин",
         "1.8 л (126 л.с.)",
         " передний",
         " вариатор"
        ],
        [
         "31",
         "Geely Emgrand EC7",
         " 2013",
         "360 000",
         "Полысаево",
         "https://auto.drom.ru/polysaevo/geely/emgrand/672432490.html",
         " бензин",
         "1.8 л (126 л.с.)",
         " передний",
         " механика"
        ],
        [
         "32",
         "Geely Emgrand EC7",
         " 2013",
         "400 000",
         "Тюмень",
         "https://auto.drom.ru/tyumen/geely/emgrand/486211118.html",
         " бензин",
         "1.8 л (126 л.с.)",
         " передний",
         " механика"
        ],
        [
         "33",
         "Geely Emgrand EC7",
         " 2013",
         "600 000",
         "Екатеринбург",
         "https://auto.drom.ru/ekaterinburg/geely/emgrand/464358049.html",
         " бензин",
         "1.5 л (98 л.с.)",
         " передний",
         " механика"
        ],
        [
         "34",
         "Geely Emgrand EC7",
         " 2014",
         "595 000",
         "Барнаул",
         "https://auto.drom.ru/barnaul/geely/emgrand/446347624.html",
         " бензин",
         "1.8 л (126 л.с.)",
         " передний",
         " вариатор"
        ],
        [
         "35",
         "Geely Emgrand EC7",
         " 2013",
         "650 000",
         "Ленино",
         "https://auto.drom.ru/lenino-krym/geely/emgrand/385453380.html",
         " бензин",
         "1.8 л (126 л.с.)",
         " передний",
         " механика"
        ],
        [
         "36",
         "Geely Emgrand EC7",
         " 2014",
         "333 000",
         "Челябинск",
         "https://auto.drom.ru/chelyabinsk/geely/emgrand/330396482.html",
         " бензин",
         "1.5 л (98 л.с.)",
         " передний",
         " механика"
        ],
        [
         "37",
         "Geely Emgrand EC7",
         " 2014",
         "425 000",
         "Тюмень",
         "https://auto.drom.ru/tyumen/geely/emgrand/276109684.html",
         " бензин",
         "1.5 л (98 л.с.)",
         " передний",
         " механика"
        ],
        [
         "38",
         "Geely Emgrand EC7",
         " 2014",
         "250 000",
         "Демидов",
         "https://auto.drom.ru/demidov/geely/emgrand/237456193.html",
         " бензин",
         "1.8 л (126 л.с.)",
         " передний",
         " механика"
        ],
        [
         "39",
         "Geely Emgrand EC7",
         " 2014",
         "359 000",
         "Омск",
         "https://auto.drom.ru/omsk/geely/emgrand/134359836.html",
         " бензин",
         "1.5 л (98 л.с.)",
         " передний",
         " механика"
        ],
        [
         "40",
         "Geely Emgrand EC7",
         " 2013",
         "799 900",
         "Сальск",
         "https://auto.drom.ru/salsk/geely/emgrand/53099518.html",
         " бензин",
         "1.8 л (126 л.с.)",
         " передний",
         " механика"
        ],
        [
         "41",
         "Geely Emgrand EC7",
         " 2016",
         "646 600",
         "Альметьевск",
         "https://auto.drom.ru/almetievsk/geely/emgrand/915114496.html",
         " бензин",
         "1.8 л (126 л.с.)",
         " передний",
         " вариатор"
        ],
        [
         "42",
         "Geely Emgrand EC7",
         " 2013",
         "599 999",
         "Черноморское",
         "https://auto.drom.ru/chernomorskoe/geely/emgrand/615269795.html",
         " бензин",
         "1.8 л (126 л.с.)",
         " передний",
         " механика"
        ],
        [
         "43",
         "Geely Emgrand EC7",
         " 2013",
         "400 000",
         "Екатеринбург",
         "https://auto.drom.ru/ekaterinburg/geely/emgrand/561081391.html",
         " бензин",
         "1.8 л (126 л.с.)",
         " передний",
         " вариатор"
        ],
        [
         "44",
         "Geely Emgrand EC7",
         " 2014",
         "790 000",
         "Симферополь",
         "https://auto.drom.ru/simferopol/geely/emgrand/166859189.html",
         " бензин",
         "1.8 л (126 л.с.)",
         " передний",
         " механика"
        ],
        [
         "45",
         "Geely Emgrand EC7",
         " 2014",
         "540 000",
         "Магнитогорск",
         "https://auto.drom.ru/magnitogorsk/geely/emgrand/895139098.html",
         " бензин",
         "1.8 л (126 л.с.)",
         " передний",
         " вариатор"
        ],
        [
         "46",
         "Geely Emgrand EC7",
         " 2013",
         "319 000",
         "Оренбург",
         "https://auto.drom.ru/orenburg/geely/emgrand/105426774.html",
         " бензин",
         "1.8 л (126 л.с.)",
         " передний",
         " вариатор"
        ],
        [
         "47",
         "Geely Emgrand EC7",
         " 2014",
         "470 000",
         "Барнаул",
         "https://auto.drom.ru/barnaul/geely/emgrand/561762040.html",
         " бензин",
         "1.8 л (126 л.с.)",
         " передний",
         " вариатор"
        ],
        [
         "48",
         "Geely Emgrand EC7",
         " 2013",
         "560 000",
         "Краснодар",
         "https://auto.drom.ru/krasnodar/geely/emgrand/760779129.html",
         " бензин",
         "1.8 л (126 л.с.)",
         " передний",
         " механика"
        ],
        [
         "49",
         "Geely Emgrand EC7",
         " 2014",
         "300 000",
         "Омск",
         "https://auto.drom.ru/omsk/geely/emgrand/421378983.html",
         " бензин",
         "1.5 л (98 л.с.)",
         " передний",
         " механика"
        ]
       ],
       "shape": {
        "columns": 9,
        "rows": 499
       }
      },
      "text/html": [
       "<div>\n",
       "<style scoped>\n",
       "    .dataframe tbody tr th:only-of-type {\n",
       "        vertical-align: middle;\n",
       "    }\n",
       "\n",
       "    .dataframe tbody tr th {\n",
       "        vertical-align: top;\n",
       "    }\n",
       "\n",
       "    .dataframe thead th {\n",
       "        text-align: right;\n",
       "    }\n",
       "</style>\n",
       "<table border=\"1\" class=\"dataframe\">\n",
       "  <thead>\n",
       "    <tr style=\"text-align: right;\">\n",
       "      <th></th>\n",
       "      <th>brand</th>\n",
       "      <th>year</th>\n",
       "      <th>price_rub</th>\n",
       "      <th>city</th>\n",
       "      <th>link</th>\n",
       "      <th>eng_type</th>\n",
       "      <th>hp</th>\n",
       "      <th>drive_type</th>\n",
       "      <th>transmisson_type</th>\n",
       "    </tr>\n",
       "  </thead>\n",
       "  <tbody>\n",
       "    <tr>\n",
       "      <th>0</th>\n",
       "      <td>Geely Emgrand EC7</td>\n",
       "      <td>2013</td>\n",
       "      <td>529 000</td>\n",
       "      <td>Омск</td>\n",
       "      <td>https://auto.drom.ru/omsk/geely/emgrand/826395...</td>\n",
       "      <td>бензин</td>\n",
       "      <td>1.8 л (126 л.с.)</td>\n",
       "      <td>передний</td>\n",
       "      <td>вариатор</td>\n",
       "    </tr>\n",
       "    <tr>\n",
       "      <th>1</th>\n",
       "      <td>Geely Emgrand EC7</td>\n",
       "      <td>2013</td>\n",
       "      <td>390 000</td>\n",
       "      <td>Екатеринбург</td>\n",
       "      <td>https://auto.drom.ru/ekaterinburg/geely/emgran...</td>\n",
       "      <td>бензин</td>\n",
       "      <td>1.8 л (126 л.с.)</td>\n",
       "      <td>передний</td>\n",
       "      <td>механика</td>\n",
       "    </tr>\n",
       "    <tr>\n",
       "      <th>2</th>\n",
       "      <td>Geely Emgrand EC7</td>\n",
       "      <td>2013</td>\n",
       "      <td>539 000</td>\n",
       "      <td>Волгоград</td>\n",
       "      <td>https://auto.drom.ru/volgograd/geely/emgrand/4...</td>\n",
       "      <td>бензин</td>\n",
       "      <td>1.5 л (98 л.с.)</td>\n",
       "      <td>передний</td>\n",
       "      <td>механика</td>\n",
       "    </tr>\n",
       "    <tr>\n",
       "      <th>3</th>\n",
       "      <td>Geely Emgrand EC7</td>\n",
       "      <td>2012</td>\n",
       "      <td>700 000</td>\n",
       "      <td>Симферополь</td>\n",
       "      <td>https://auto.drom.ru/simferopol/geely/emgrand/...</td>\n",
       "      <td>бензин</td>\n",
       "      <td>1.8 л (126 л.с.)</td>\n",
       "      <td>передний</td>\n",
       "      <td>механика</td>\n",
       "    </tr>\n",
       "    <tr>\n",
       "      <th>4</th>\n",
       "      <td>Geely Emgrand EC7</td>\n",
       "      <td>2013</td>\n",
       "      <td>290 000</td>\n",
       "      <td>Саратов</td>\n",
       "      <td>https://auto.drom.ru/saratov/geely/emgrand/898...</td>\n",
       "      <td>бензин</td>\n",
       "      <td>1.8 л (126 л.с.)</td>\n",
       "      <td>передний</td>\n",
       "      <td>механика</td>\n",
       "    </tr>\n",
       "    <tr>\n",
       "      <th>...</th>\n",
       "      <td>...</td>\n",
       "      <td>...</td>\n",
       "      <td>...</td>\n",
       "      <td>...</td>\n",
       "      <td>...</td>\n",
       "      <td>...</td>\n",
       "      <td>...</td>\n",
       "      <td>...</td>\n",
       "      <td>...</td>\n",
       "    </tr>\n",
       "    <tr>\n",
       "      <th>494</th>\n",
       "      <td>Geely Emgrand EC7</td>\n",
       "      <td>2012</td>\n",
       "      <td>300 000</td>\n",
       "      <td>Тюмень</td>\n",
       "      <td>https://auto.drom.ru/tyumen/geely/emgrand/2632...</td>\n",
       "      <td>бензин</td>\n",
       "      <td>1.8 л (126 л.с.)</td>\n",
       "      <td>передний</td>\n",
       "      <td>механика</td>\n",
       "    </tr>\n",
       "    <tr>\n",
       "      <th>495</th>\n",
       "      <td>Geely Emgrand EC7</td>\n",
       "      <td>2014</td>\n",
       "      <td>650 000</td>\n",
       "      <td>Симферополь</td>\n",
       "      <td>https://auto.drom.ru/simferopol/geely/emgrand/...</td>\n",
       "      <td>бензин</td>\n",
       "      <td>1.8 л (126 л.с.)</td>\n",
       "      <td>передний</td>\n",
       "      <td>вариатор</td>\n",
       "    </tr>\n",
       "    <tr>\n",
       "      <th>496</th>\n",
       "      <td>Geely Emgrand EC7</td>\n",
       "      <td>2013</td>\n",
       "      <td>499 000</td>\n",
       "      <td>Волгоград</td>\n",
       "      <td>https://auto.drom.ru/volgograd/geely/emgrand/5...</td>\n",
       "      <td>бензин</td>\n",
       "      <td>1.5 л (98 л.с.)</td>\n",
       "      <td>передний</td>\n",
       "      <td>механика</td>\n",
       "    </tr>\n",
       "    <tr>\n",
       "      <th>497</th>\n",
       "      <td>Geely Emgrand EC7</td>\n",
       "      <td>2014</td>\n",
       "      <td>175 000</td>\n",
       "      <td>Челябинск</td>\n",
       "      <td>https://auto.drom.ru/chelyabinsk/geely/emgrand...</td>\n",
       "      <td>бензин</td>\n",
       "      <td>1.8 л (126 л.с.)</td>\n",
       "      <td>передний</td>\n",
       "      <td>вариатор</td>\n",
       "    </tr>\n",
       "    <tr>\n",
       "      <th>498</th>\n",
       "      <td>Geely Emgrand EC7</td>\n",
       "      <td>2014</td>\n",
       "      <td>550 000</td>\n",
       "      <td>Тюмень</td>\n",
       "      <td>https://auto.drom.ru/tyumen/geely/emgrand/5085...</td>\n",
       "      <td>бензин</td>\n",
       "      <td>1.8 л (126 л.с.)</td>\n",
       "      <td>передний</td>\n",
       "      <td>механика</td>\n",
       "    </tr>\n",
       "  </tbody>\n",
       "</table>\n",
       "<p>499 rows × 9 columns</p>\n",
       "</div>"
      ],
      "text/plain": [
       "                 brand   year price_rub          city  \\\n",
       "0    Geely Emgrand EC7   2013   529 000          Омск   \n",
       "1    Geely Emgrand EC7   2013   390 000  Екатеринбург   \n",
       "2    Geely Emgrand EC7   2013   539 000     Волгоград   \n",
       "3    Geely Emgrand EC7   2012   700 000   Симферополь   \n",
       "4    Geely Emgrand EC7   2013   290 000       Саратов   \n",
       "..                 ...    ...       ...           ...   \n",
       "494  Geely Emgrand EC7   2012   300 000        Тюмень   \n",
       "495  Geely Emgrand EC7   2014   650 000   Симферополь   \n",
       "496  Geely Emgrand EC7   2013   499 000     Волгоград   \n",
       "497  Geely Emgrand EC7   2014   175 000     Челябинск   \n",
       "498  Geely Emgrand EC7   2014   550 000        Тюмень   \n",
       "\n",
       "                                                  link eng_type  \\\n",
       "0    https://auto.drom.ru/omsk/geely/emgrand/826395...   бензин   \n",
       "1    https://auto.drom.ru/ekaterinburg/geely/emgran...   бензин   \n",
       "2    https://auto.drom.ru/volgograd/geely/emgrand/4...   бензин   \n",
       "3    https://auto.drom.ru/simferopol/geely/emgrand/...   бензин   \n",
       "4    https://auto.drom.ru/saratov/geely/emgrand/898...   бензин   \n",
       "..                                                 ...      ...   \n",
       "494  https://auto.drom.ru/tyumen/geely/emgrand/2632...   бензин   \n",
       "495  https://auto.drom.ru/simferopol/geely/emgrand/...   бензин   \n",
       "496  https://auto.drom.ru/volgograd/geely/emgrand/5...   бензин   \n",
       "497  https://auto.drom.ru/chelyabinsk/geely/emgrand...   бензин   \n",
       "498  https://auto.drom.ru/tyumen/geely/emgrand/5085...   бензин   \n",
       "\n",
       "                   hp drive_type transmisson_type  \n",
       "0    1.8 л (126 л.с.)   передний         вариатор  \n",
       "1    1.8 л (126 л.с.)   передний         механика  \n",
       "2     1.5 л (98 л.с.)   передний         механика  \n",
       "3    1.8 л (126 л.с.)   передний         механика  \n",
       "4    1.8 л (126 л.с.)   передний         механика  \n",
       "..                ...        ...              ...  \n",
       "494  1.8 л (126 л.с.)   передний         механика  \n",
       "495  1.8 л (126 л.с.)   передний         вариатор  \n",
       "496   1.5 л (98 л.с.)   передний         механика  \n",
       "497  1.8 л (126 л.с.)   передний         вариатор  \n",
       "498  1.8 л (126 л.с.)   передний         механика  \n",
       "\n",
       "[499 rows x 9 columns]"
      ]
     },
     "execution_count": 711,
     "metadata": {},
     "output_type": "execute_result"
    }
   ],
   "source": [
    "df"
   ]
  },
  {
   "cell_type": "code",
   "execution_count": 712,
   "metadata": {},
   "outputs": [
    {
     "name": "stdout",
     "output_type": "stream",
     "text": [
      "<class 'pandas.core.frame.DataFrame'>\n",
      "RangeIndex: 499 entries, 0 to 498\n",
      "Data columns (total 9 columns):\n",
      " #   Column            Non-Null Count  Dtype \n",
      "---  ------            --------------  ----- \n",
      " 0   brand             499 non-null    object\n",
      " 1   year              499 non-null    object\n",
      " 2   price_rub         499 non-null    object\n",
      " 3   city              499 non-null    object\n",
      " 4   link              499 non-null    object\n",
      " 5   eng_type          499 non-null    object\n",
      " 6   hp                499 non-null    object\n",
      " 7   drive_type        499 non-null    object\n",
      " 8   transmisson_type  499 non-null    object\n",
      "dtypes: object(9)\n",
      "memory usage: 35.2+ KB\n"
     ]
    }
   ],
   "source": [
    "df.info()"
   ]
  },
  {
   "cell_type": "code",
   "execution_count": 713,
   "metadata": {},
   "outputs": [],
   "source": [
    "# сконвертировать цену в рублях в формат пригодный для выполнения анализа  / \n",
    "# преобразовать структуру таблицы в читаемый формат / "
   ]
  },
  {
   "cell_type": "markdown",
   "metadata": {},
   "source": [
    "Скорректируем столбец количество лс:"
   ]
  },
  {
   "cell_type": "code",
   "execution_count": 714,
   "metadata": {},
   "outputs": [
    {
     "data": {
      "application/vnd.microsoft.datawrangler.viewer.v0+json": {
       "columns": [
        {
         "name": "index",
         "rawType": "int64",
         "type": "integer"
        },
        {
         "name": "brand",
         "rawType": "object",
         "type": "string"
        },
        {
         "name": "year",
         "rawType": "object",
         "type": "string"
        },
        {
         "name": "price_rub",
         "rawType": "object",
         "type": "string"
        },
        {
         "name": "city",
         "rawType": "object",
         "type": "string"
        },
        {
         "name": "link",
         "rawType": "object",
         "type": "string"
        },
        {
         "name": "eng_type",
         "rawType": "object",
         "type": "string"
        },
        {
         "name": "hp",
         "rawType": "object",
         "type": "string"
        },
        {
         "name": "drive_type",
         "rawType": "object",
         "type": "string"
        },
        {
         "name": "transmisson_type",
         "rawType": "object",
         "type": "string"
        }
       ],
       "conversionMethod": "pd.DataFrame",
       "ref": "6b3299a9-4767-47a7-97e3-94d9da8fde6b",
       "rows": [
        [
         "0",
         "Geely Emgrand EC7",
         " 2013",
         "529 000",
         "Омск",
         "https://auto.drom.ru/omsk/geely/emgrand/826395034.html",
         " бензин",
         "126 ",
         " передний",
         " вариатор"
        ],
        [
         "1",
         "Geely Emgrand EC7",
         " 2013",
         "390 000",
         "Екатеринбург",
         "https://auto.drom.ru/ekaterinburg/geely/emgrand/892079345.html",
         " бензин",
         "126 ",
         " передний",
         " механика"
        ],
        [
         "2",
         "Geely Emgrand EC7",
         " 2013",
         "539 000",
         "Волгоград",
         "https://auto.drom.ru/volgograd/geely/emgrand/481057043.html",
         " бензин",
         "98 ",
         " передний",
         " механика"
        ],
        [
         "3",
         "Geely Emgrand EC7",
         " 2012",
         "700 000",
         "Симферополь",
         "https://auto.drom.ru/simferopol/geely/emgrand/480445122.html",
         " бензин",
         "126 ",
         " передний",
         " механика"
        ],
        [
         "4",
         "Geely Emgrand EC7",
         " 2013",
         "290 000",
         "Саратов",
         "https://auto.drom.ru/saratov/geely/emgrand/898082307.html",
         " бензин",
         "126 ",
         " передний",
         " механика"
        ],
        [
         "5",
         "Geely Emgrand EC7",
         " 2016",
         "725 000",
         "Саратов",
         "https://auto.drom.ru/saratov/geely/emgrand/302453412.html",
         " бензин",
         "126 ",
         " передний",
         " механика"
        ],
        [
         "6",
         "Geely Emgrand EC7",
         " 2013",
         "459 999",
         "Кемерово",
         "https://auto.drom.ru/kemerovo/geely/emgrand/439696011.html",
         " бензин",
         "126 ",
         " передний",
         " механика"
        ],
        [
         "7",
         "Geely Emgrand EC7",
         " 2019",
         "870 000",
         "Сургут",
         "https://auto.drom.ru/surgut/geely/emgrand/871004110.html",
         " бензин",
         "103 ",
         " передний",
         " механика"
        ],
        [
         "8",
         "Geely Emgrand EC7",
         " 2013",
         "370 000",
         "Вологда",
         "https://auto.drom.ru/vologda/geely/emgrand/270878866.html",
         " бензин",
         "126 ",
         " передний",
         " механика"
        ],
        [
         "9",
         "Geely Emgrand EC7",
         " 2016",
         "760 000",
         "Симферополь",
         "https://auto.drom.ru/simferopol/geely/emgrand/914538924.html",
         " бензин",
         "129 ",
         " передний",
         " вариатор"
        ],
        [
         "10",
         "Geely Emgrand EC7",
         " 2014",
         "450 000",
         "Симферополь",
         "https://auto.drom.ru/simferopol/geely/emgrand/551630137.html",
         " бензин",
         "98 ",
         " передний",
         " механика"
        ],
        [
         "11",
         "Geely Emgrand EC7",
         " 2013",
         "380 000",
         "Оренбург",
         "https://auto.drom.ru/orenburg/geely/emgrand/105100076.html",
         " бензин",
         "126 ",
         " передний",
         " механика"
        ],
        [
         "12",
         "Geely Emgrand EC7",
         " 2013",
         "500 000",
         "Чебоксары",
         "https://auto.drom.ru/cheboksary/geely/emgrand/491507228.html",
         " бензин",
         "98 ",
         " передний",
         " механика"
        ],
        [
         "13",
         "Geely Emgrand EC7",
         " 2019",
         "1 200 000",
         "Омск",
         "https://auto.drom.ru/omsk/geely/emgrand/540127001.html",
         " бензин",
         "133 ",
         " передний",
         " вариатор"
        ],
        [
         "14",
         "Geely Emgrand EC7",
         " 2013",
         "400 000",
         "Казань",
         "https://auto.drom.ru/kazan/geely/emgrand/210847184.html",
         " бензин",
         "98 ",
         " передний",
         " механика"
        ],
        [
         "15",
         "Geely Emgrand EC7",
         " 2011",
         "550 000",
         "Симферополь",
         "https://auto.drom.ru/simferopol/geely/emgrand/331742700.html",
         " бензин",
         "126 ",
         " передний",
         " механика"
        ],
        [
         "16",
         "Geely Emgrand EC7",
         " 2013",
         "650 000",
         "Мамонтово",
         "https://auto.drom.ru/mamontovo/geely/emgrand/149081335.html",
         " бензин",
         "98 ",
         " передний",
         " механика"
        ],
        [
         "17",
         "Geely Emgrand EC7",
         " 2014",
         "689 000",
         "Омск",
         "https://auto.drom.ru/omsk/geely/emgrand/820331057.html",
         " бензин",
         "126 ",
         " передний",
         " вариатор"
        ],
        [
         "18",
         "Geely Emgrand EC7",
         " 2014",
         "280 000",
         "Набережные Челны",
         "https://auto.drom.ru/naberezhnye-chelny/geely/emgrand/310010346.html",
         " бензин",
         "98 ",
         " передний",
         " механика"
        ],
        [
         "19",
         "Geely Emgrand EC7",
         " 2019",
         "1 170 000",
         "Феодосия",
         "https://auto.drom.ru/feodosiya/geely/emgrand/549308562.html",
         " бензин",
         "133 ",
         " передний",
         " механика"
        ],
        [
         "20",
         "Geely Emgrand EC7",
         " 2014",
         "365 000",
         "Новый Оскол",
         "https://auto.drom.ru/noviy-oskol/geely/emgrand/872539105.html",
         " бензин",
         "126 ",
         " передний",
         " механика"
        ],
        [
         "21",
         "Geely Emgrand EC7",
         " 2014",
         "570 000",
         "Анапа",
         "https://auto.drom.ru/anapa/geely/emgrand/493791226.html",
         " бензин",
         "126 ",
         " передний",
         " механика"
        ],
        [
         "22",
         "Geely Emgrand EC7",
         " 2013",
         "450 000",
         "Челябинск",
         "https://auto.drom.ru/chelyabinsk/geely/emgrand/186326053.html",
         " бензин",
         "98 ",
         " передний",
         " механика"
        ],
        [
         "23",
         "Geely Emgrand EC7",
         " 2013",
         "490 000",
         "Омск",
         "https://auto.drom.ru/omsk/geely/emgrand/340066292.html",
         " бензин",
         "126 ",
         " передний",
         " вариатор"
        ],
        [
         "24",
         "Geely Emgrand EC7",
         " 2014",
         "425 000",
         "Омск",
         "https://auto.drom.ru/omsk/geely/emgrand/732266429.html",
         " бензин",
         "98 ",
         " передний",
         " механика"
        ],
        [
         "25",
         "Geely Emgrand EC7",
         " 2013",
         "445 000",
         "Омск",
         "https://auto.drom.ru/omsk/geely/emgrand/313162738.html",
         " бензин",
         "126 ",
         " передний",
         " механика"
        ],
        [
         "26",
         "Geely Emgrand EC7",
         " 2014",
         "700 000",
         "Барнаул",
         "https://auto.drom.ru/barnaul/geely/emgrand/233635542.html",
         " бензин",
         "126 ",
         " передний",
         " вариатор"
        ],
        [
         "27",
         "Geely Emgrand EC7",
         " 2013",
         "599 000",
         "Абакан",
         "https://auto.drom.ru/abakan/geely/emgrand/399181703.html",
         " бензин",
         "126 ",
         " передний",
         " вариатор"
        ],
        [
         "28",
         "Geely Emgrand EC7",
         " 2013",
         "510 000",
         "Симферополь",
         "https://auto.drom.ru/simferopol/geely/emgrand/686557673.html",
         " бензин",
         "126 ",
         " передний",
         " вариатор"
        ],
        [
         "29",
         "Geely Emgrand EC7",
         " 2013",
         "420 000",
         "Ишим",
         "https://auto.drom.ru/ishim/geely/emgrand/679378834.html",
         " бензин",
         "98 ",
         " передний",
         " механика"
        ],
        [
         "30",
         "Geely Emgrand EC7",
         " 2016",
         "610 000",
         "Уфа",
         "https://auto.drom.ru/ufa/geely/emgrand/676712172.html",
         " бензин",
         "126 ",
         " передний",
         " вариатор"
        ],
        [
         "31",
         "Geely Emgrand EC7",
         " 2013",
         "360 000",
         "Полысаево",
         "https://auto.drom.ru/polysaevo/geely/emgrand/672432490.html",
         " бензин",
         "126 ",
         " передний",
         " механика"
        ],
        [
         "32",
         "Geely Emgrand EC7",
         " 2013",
         "400 000",
         "Тюмень",
         "https://auto.drom.ru/tyumen/geely/emgrand/486211118.html",
         " бензин",
         "126 ",
         " передний",
         " механика"
        ],
        [
         "33",
         "Geely Emgrand EC7",
         " 2013",
         "600 000",
         "Екатеринбург",
         "https://auto.drom.ru/ekaterinburg/geely/emgrand/464358049.html",
         " бензин",
         "98 ",
         " передний",
         " механика"
        ],
        [
         "34",
         "Geely Emgrand EC7",
         " 2014",
         "595 000",
         "Барнаул",
         "https://auto.drom.ru/barnaul/geely/emgrand/446347624.html",
         " бензин",
         "126 ",
         " передний",
         " вариатор"
        ],
        [
         "35",
         "Geely Emgrand EC7",
         " 2013",
         "650 000",
         "Ленино",
         "https://auto.drom.ru/lenino-krym/geely/emgrand/385453380.html",
         " бензин",
         "126 ",
         " передний",
         " механика"
        ],
        [
         "36",
         "Geely Emgrand EC7",
         " 2014",
         "333 000",
         "Челябинск",
         "https://auto.drom.ru/chelyabinsk/geely/emgrand/330396482.html",
         " бензин",
         "98 ",
         " передний",
         " механика"
        ],
        [
         "37",
         "Geely Emgrand EC7",
         " 2014",
         "425 000",
         "Тюмень",
         "https://auto.drom.ru/tyumen/geely/emgrand/276109684.html",
         " бензин",
         "98 ",
         " передний",
         " механика"
        ],
        [
         "38",
         "Geely Emgrand EC7",
         " 2014",
         "250 000",
         "Демидов",
         "https://auto.drom.ru/demidov/geely/emgrand/237456193.html",
         " бензин",
         "126 ",
         " передний",
         " механика"
        ],
        [
         "39",
         "Geely Emgrand EC7",
         " 2014",
         "359 000",
         "Омск",
         "https://auto.drom.ru/omsk/geely/emgrand/134359836.html",
         " бензин",
         "98 ",
         " передний",
         " механика"
        ],
        [
         "40",
         "Geely Emgrand EC7",
         " 2013",
         "799 900",
         "Сальск",
         "https://auto.drom.ru/salsk/geely/emgrand/53099518.html",
         " бензин",
         "126 ",
         " передний",
         " механика"
        ],
        [
         "41",
         "Geely Emgrand EC7",
         " 2016",
         "646 600",
         "Альметьевск",
         "https://auto.drom.ru/almetievsk/geely/emgrand/915114496.html",
         " бензин",
         "126 ",
         " передний",
         " вариатор"
        ],
        [
         "42",
         "Geely Emgrand EC7",
         " 2013",
         "599 999",
         "Черноморское",
         "https://auto.drom.ru/chernomorskoe/geely/emgrand/615269795.html",
         " бензин",
         "126 ",
         " передний",
         " механика"
        ],
        [
         "43",
         "Geely Emgrand EC7",
         " 2013",
         "400 000",
         "Екатеринбург",
         "https://auto.drom.ru/ekaterinburg/geely/emgrand/561081391.html",
         " бензин",
         "126 ",
         " передний",
         " вариатор"
        ],
        [
         "44",
         "Geely Emgrand EC7",
         " 2014",
         "790 000",
         "Симферополь",
         "https://auto.drom.ru/simferopol/geely/emgrand/166859189.html",
         " бензин",
         "126 ",
         " передний",
         " механика"
        ],
        [
         "45",
         "Geely Emgrand EC7",
         " 2014",
         "540 000",
         "Магнитогорск",
         "https://auto.drom.ru/magnitogorsk/geely/emgrand/895139098.html",
         " бензин",
         "126 ",
         " передний",
         " вариатор"
        ],
        [
         "46",
         "Geely Emgrand EC7",
         " 2013",
         "319 000",
         "Оренбург",
         "https://auto.drom.ru/orenburg/geely/emgrand/105426774.html",
         " бензин",
         "126 ",
         " передний",
         " вариатор"
        ],
        [
         "47",
         "Geely Emgrand EC7",
         " 2014",
         "470 000",
         "Барнаул",
         "https://auto.drom.ru/barnaul/geely/emgrand/561762040.html",
         " бензин",
         "126 ",
         " передний",
         " вариатор"
        ],
        [
         "48",
         "Geely Emgrand EC7",
         " 2013",
         "560 000",
         "Краснодар",
         "https://auto.drom.ru/krasnodar/geely/emgrand/760779129.html",
         " бензин",
         "126 ",
         " передний",
         " механика"
        ],
        [
         "49",
         "Geely Emgrand EC7",
         " 2014",
         "300 000",
         "Омск",
         "https://auto.drom.ru/omsk/geely/emgrand/421378983.html",
         " бензин",
         "98 ",
         " передний",
         " механика"
        ]
       ],
       "shape": {
        "columns": 9,
        "rows": 499
       }
      },
      "text/html": [
       "<div>\n",
       "<style scoped>\n",
       "    .dataframe tbody tr th:only-of-type {\n",
       "        vertical-align: middle;\n",
       "    }\n",
       "\n",
       "    .dataframe tbody tr th {\n",
       "        vertical-align: top;\n",
       "    }\n",
       "\n",
       "    .dataframe thead th {\n",
       "        text-align: right;\n",
       "    }\n",
       "</style>\n",
       "<table border=\"1\" class=\"dataframe\">\n",
       "  <thead>\n",
       "    <tr style=\"text-align: right;\">\n",
       "      <th></th>\n",
       "      <th>brand</th>\n",
       "      <th>year</th>\n",
       "      <th>price_rub</th>\n",
       "      <th>city</th>\n",
       "      <th>link</th>\n",
       "      <th>eng_type</th>\n",
       "      <th>hp</th>\n",
       "      <th>drive_type</th>\n",
       "      <th>transmisson_type</th>\n",
       "    </tr>\n",
       "  </thead>\n",
       "  <tbody>\n",
       "    <tr>\n",
       "      <th>0</th>\n",
       "      <td>Geely Emgrand EC7</td>\n",
       "      <td>2013</td>\n",
       "      <td>529 000</td>\n",
       "      <td>Омск</td>\n",
       "      <td>https://auto.drom.ru/omsk/geely/emgrand/826395...</td>\n",
       "      <td>бензин</td>\n",
       "      <td>126</td>\n",
       "      <td>передний</td>\n",
       "      <td>вариатор</td>\n",
       "    </tr>\n",
       "    <tr>\n",
       "      <th>1</th>\n",
       "      <td>Geely Emgrand EC7</td>\n",
       "      <td>2013</td>\n",
       "      <td>390 000</td>\n",
       "      <td>Екатеринбург</td>\n",
       "      <td>https://auto.drom.ru/ekaterinburg/geely/emgran...</td>\n",
       "      <td>бензин</td>\n",
       "      <td>126</td>\n",
       "      <td>передний</td>\n",
       "      <td>механика</td>\n",
       "    </tr>\n",
       "    <tr>\n",
       "      <th>2</th>\n",
       "      <td>Geely Emgrand EC7</td>\n",
       "      <td>2013</td>\n",
       "      <td>539 000</td>\n",
       "      <td>Волгоград</td>\n",
       "      <td>https://auto.drom.ru/volgograd/geely/emgrand/4...</td>\n",
       "      <td>бензин</td>\n",
       "      <td>98</td>\n",
       "      <td>передний</td>\n",
       "      <td>механика</td>\n",
       "    </tr>\n",
       "    <tr>\n",
       "      <th>3</th>\n",
       "      <td>Geely Emgrand EC7</td>\n",
       "      <td>2012</td>\n",
       "      <td>700 000</td>\n",
       "      <td>Симферополь</td>\n",
       "      <td>https://auto.drom.ru/simferopol/geely/emgrand/...</td>\n",
       "      <td>бензин</td>\n",
       "      <td>126</td>\n",
       "      <td>передний</td>\n",
       "      <td>механика</td>\n",
       "    </tr>\n",
       "    <tr>\n",
       "      <th>4</th>\n",
       "      <td>Geely Emgrand EC7</td>\n",
       "      <td>2013</td>\n",
       "      <td>290 000</td>\n",
       "      <td>Саратов</td>\n",
       "      <td>https://auto.drom.ru/saratov/geely/emgrand/898...</td>\n",
       "      <td>бензин</td>\n",
       "      <td>126</td>\n",
       "      <td>передний</td>\n",
       "      <td>механика</td>\n",
       "    </tr>\n",
       "    <tr>\n",
       "      <th>...</th>\n",
       "      <td>...</td>\n",
       "      <td>...</td>\n",
       "      <td>...</td>\n",
       "      <td>...</td>\n",
       "      <td>...</td>\n",
       "      <td>...</td>\n",
       "      <td>...</td>\n",
       "      <td>...</td>\n",
       "      <td>...</td>\n",
       "    </tr>\n",
       "    <tr>\n",
       "      <th>494</th>\n",
       "      <td>Geely Emgrand EC7</td>\n",
       "      <td>2012</td>\n",
       "      <td>300 000</td>\n",
       "      <td>Тюмень</td>\n",
       "      <td>https://auto.drom.ru/tyumen/geely/emgrand/2632...</td>\n",
       "      <td>бензин</td>\n",
       "      <td>126</td>\n",
       "      <td>передний</td>\n",
       "      <td>механика</td>\n",
       "    </tr>\n",
       "    <tr>\n",
       "      <th>495</th>\n",
       "      <td>Geely Emgrand EC7</td>\n",
       "      <td>2014</td>\n",
       "      <td>650 000</td>\n",
       "      <td>Симферополь</td>\n",
       "      <td>https://auto.drom.ru/simferopol/geely/emgrand/...</td>\n",
       "      <td>бензин</td>\n",
       "      <td>126</td>\n",
       "      <td>передний</td>\n",
       "      <td>вариатор</td>\n",
       "    </tr>\n",
       "    <tr>\n",
       "      <th>496</th>\n",
       "      <td>Geely Emgrand EC7</td>\n",
       "      <td>2013</td>\n",
       "      <td>499 000</td>\n",
       "      <td>Волгоград</td>\n",
       "      <td>https://auto.drom.ru/volgograd/geely/emgrand/5...</td>\n",
       "      <td>бензин</td>\n",
       "      <td>98</td>\n",
       "      <td>передний</td>\n",
       "      <td>механика</td>\n",
       "    </tr>\n",
       "    <tr>\n",
       "      <th>497</th>\n",
       "      <td>Geely Emgrand EC7</td>\n",
       "      <td>2014</td>\n",
       "      <td>175 000</td>\n",
       "      <td>Челябинск</td>\n",
       "      <td>https://auto.drom.ru/chelyabinsk/geely/emgrand...</td>\n",
       "      <td>бензин</td>\n",
       "      <td>126</td>\n",
       "      <td>передний</td>\n",
       "      <td>вариатор</td>\n",
       "    </tr>\n",
       "    <tr>\n",
       "      <th>498</th>\n",
       "      <td>Geely Emgrand EC7</td>\n",
       "      <td>2014</td>\n",
       "      <td>550 000</td>\n",
       "      <td>Тюмень</td>\n",
       "      <td>https://auto.drom.ru/tyumen/geely/emgrand/5085...</td>\n",
       "      <td>бензин</td>\n",
       "      <td>126</td>\n",
       "      <td>передний</td>\n",
       "      <td>механика</td>\n",
       "    </tr>\n",
       "  </tbody>\n",
       "</table>\n",
       "<p>499 rows × 9 columns</p>\n",
       "</div>"
      ],
      "text/plain": [
       "                 brand   year price_rub          city  \\\n",
       "0    Geely Emgrand EC7   2013   529 000          Омск   \n",
       "1    Geely Emgrand EC7   2013   390 000  Екатеринбург   \n",
       "2    Geely Emgrand EC7   2013   539 000     Волгоград   \n",
       "3    Geely Emgrand EC7   2012   700 000   Симферополь   \n",
       "4    Geely Emgrand EC7   2013   290 000       Саратов   \n",
       "..                 ...    ...       ...           ...   \n",
       "494  Geely Emgrand EC7   2012   300 000        Тюмень   \n",
       "495  Geely Emgrand EC7   2014   650 000   Симферополь   \n",
       "496  Geely Emgrand EC7   2013   499 000     Волгоград   \n",
       "497  Geely Emgrand EC7   2014   175 000     Челябинск   \n",
       "498  Geely Emgrand EC7   2014   550 000        Тюмень   \n",
       "\n",
       "                                                  link eng_type    hp  \\\n",
       "0    https://auto.drom.ru/omsk/geely/emgrand/826395...   бензин  126    \n",
       "1    https://auto.drom.ru/ekaterinburg/geely/emgran...   бензин  126    \n",
       "2    https://auto.drom.ru/volgograd/geely/emgrand/4...   бензин   98    \n",
       "3    https://auto.drom.ru/simferopol/geely/emgrand/...   бензин  126    \n",
       "4    https://auto.drom.ru/saratov/geely/emgrand/898...   бензин  126    \n",
       "..                                                 ...      ...   ...   \n",
       "494  https://auto.drom.ru/tyumen/geely/emgrand/2632...   бензин  126    \n",
       "495  https://auto.drom.ru/simferopol/geely/emgrand/...   бензин  126    \n",
       "496  https://auto.drom.ru/volgograd/geely/emgrand/5...   бензин   98    \n",
       "497  https://auto.drom.ru/chelyabinsk/geely/emgrand...   бензин  126    \n",
       "498  https://auto.drom.ru/tyumen/geely/emgrand/5085...   бензин  126    \n",
       "\n",
       "    drive_type transmisson_type  \n",
       "0     передний         вариатор  \n",
       "1     передний         механика  \n",
       "2     передний         механика  \n",
       "3     передний         механика  \n",
       "4     передний         механика  \n",
       "..         ...              ...  \n",
       "494   передний         механика  \n",
       "495   передний         вариатор  \n",
       "496   передний         механика  \n",
       "497   передний         вариатор  \n",
       "498   передний         механика  \n",
       "\n",
       "[499 rows x 9 columns]"
      ]
     },
     "execution_count": 714,
     "metadata": {},
     "output_type": "execute_result"
    }
   ],
   "source": [
    "df.hp = df.hp.str[7:-5]\n",
    "df"
   ]
  },
  {
   "cell_type": "markdown",
   "metadata": {},
   "source": [
    "Проверим наличие несоответсвий в столбцах eng_type + drive_type + transmisson_type:"
   ]
  },
  {
   "cell_type": "code",
   "execution_count": 715,
   "metadata": {},
   "outputs": [
    {
     "data": {
      "text/plain": [
       "1"
      ]
     },
     "execution_count": 715,
     "metadata": {},
     "output_type": "execute_result"
    }
   ],
   "source": [
    "df['eng_type'].nunique()"
   ]
  },
  {
   "cell_type": "code",
   "execution_count": 716,
   "metadata": {},
   "outputs": [
    {
     "data": {
      "text/plain": [
       "array([' бензин'], dtype=object)"
      ]
     },
     "execution_count": 716,
     "metadata": {},
     "output_type": "execute_result"
    }
   ],
   "source": [
    "df['eng_type'].unique()"
   ]
  },
  {
   "cell_type": "code",
   "execution_count": 717,
   "metadata": {},
   "outputs": [
    {
     "data": {
      "application/vnd.microsoft.datawrangler.viewer.v0+json": {
       "columns": [
        {
         "name": "index",
         "rawType": "int64",
         "type": "integer"
        },
        {
         "name": "brand",
         "rawType": "object",
         "type": "unknown"
        },
        {
         "name": "year",
         "rawType": "object",
         "type": "unknown"
        },
        {
         "name": "price_rub",
         "rawType": "object",
         "type": "unknown"
        },
        {
         "name": "city",
         "rawType": "object",
         "type": "unknown"
        },
        {
         "name": "link",
         "rawType": "object",
         "type": "unknown"
        },
        {
         "name": "eng_type",
         "rawType": "object",
         "type": "unknown"
        },
        {
         "name": "hp",
         "rawType": "object",
         "type": "unknown"
        },
        {
         "name": "drive_type",
         "rawType": "object",
         "type": "unknown"
        },
        {
         "name": "transmisson_type",
         "rawType": "object",
         "type": "unknown"
        }
       ],
       "conversionMethod": "pd.DataFrame",
       "ref": "0a34b68c-3825-47af-b8d1-7fc79b374a3f",
       "rows": [
        [
         "0",
         null,
         null,
         null,
         null,
         null,
         null,
         null,
         null,
         null
        ],
        [
         "1",
         null,
         null,
         null,
         null,
         null,
         null,
         null,
         null,
         null
        ],
        [
         "2",
         null,
         null,
         null,
         null,
         null,
         null,
         null,
         null,
         null
        ],
        [
         "3",
         null,
         null,
         null,
         null,
         null,
         null,
         null,
         null,
         null
        ],
        [
         "4",
         null,
         null,
         null,
         null,
         null,
         null,
         null,
         null,
         null
        ],
        [
         "5",
         null,
         null,
         null,
         null,
         null,
         null,
         null,
         null,
         null
        ],
        [
         "6",
         null,
         null,
         null,
         null,
         null,
         null,
         null,
         null,
         null
        ],
        [
         "7",
         null,
         null,
         null,
         null,
         null,
         null,
         null,
         null,
         null
        ],
        [
         "8",
         null,
         null,
         null,
         null,
         null,
         null,
         null,
         null,
         null
        ],
        [
         "9",
         null,
         null,
         null,
         null,
         null,
         null,
         null,
         null,
         null
        ],
        [
         "10",
         null,
         null,
         null,
         null,
         null,
         null,
         null,
         null,
         null
        ],
        [
         "11",
         null,
         null,
         null,
         null,
         null,
         null,
         null,
         null,
         null
        ],
        [
         "12",
         null,
         null,
         null,
         null,
         null,
         null,
         null,
         null,
         null
        ],
        [
         "13",
         null,
         null,
         null,
         null,
         null,
         null,
         null,
         null,
         null
        ],
        [
         "14",
         null,
         null,
         null,
         null,
         null,
         null,
         null,
         null,
         null
        ],
        [
         "15",
         null,
         null,
         null,
         null,
         null,
         null,
         null,
         null,
         null
        ],
        [
         "16",
         null,
         null,
         null,
         null,
         null,
         null,
         null,
         null,
         null
        ],
        [
         "17",
         null,
         null,
         null,
         null,
         null,
         null,
         null,
         null,
         null
        ],
        [
         "18",
         null,
         null,
         null,
         null,
         null,
         null,
         null,
         null,
         null
        ],
        [
         "19",
         null,
         null,
         null,
         null,
         null,
         null,
         null,
         null,
         null
        ],
        [
         "20",
         null,
         null,
         null,
         null,
         null,
         null,
         null,
         null,
         null
        ],
        [
         "21",
         null,
         null,
         null,
         null,
         null,
         null,
         null,
         null,
         null
        ],
        [
         "22",
         null,
         null,
         null,
         null,
         null,
         null,
         null,
         null,
         null
        ],
        [
         "23",
         null,
         null,
         null,
         null,
         null,
         null,
         null,
         null,
         null
        ],
        [
         "24",
         null,
         null,
         null,
         null,
         null,
         null,
         null,
         null,
         null
        ],
        [
         "25",
         null,
         null,
         null,
         null,
         null,
         null,
         null,
         null,
         null
        ],
        [
         "26",
         null,
         null,
         null,
         null,
         null,
         null,
         null,
         null,
         null
        ],
        [
         "27",
         null,
         null,
         null,
         null,
         null,
         null,
         null,
         null,
         null
        ],
        [
         "28",
         null,
         null,
         null,
         null,
         null,
         null,
         null,
         null,
         null
        ],
        [
         "29",
         null,
         null,
         null,
         null,
         null,
         null,
         null,
         null,
         null
        ],
        [
         "30",
         null,
         null,
         null,
         null,
         null,
         null,
         null,
         null,
         null
        ],
        [
         "31",
         null,
         null,
         null,
         null,
         null,
         null,
         null,
         null,
         null
        ],
        [
         "32",
         null,
         null,
         null,
         null,
         null,
         null,
         null,
         null,
         null
        ],
        [
         "33",
         null,
         null,
         null,
         null,
         null,
         null,
         null,
         null,
         null
        ],
        [
         "34",
         null,
         null,
         null,
         null,
         null,
         null,
         null,
         null,
         null
        ],
        [
         "35",
         null,
         null,
         null,
         null,
         null,
         null,
         null,
         null,
         null
        ],
        [
         "36",
         null,
         null,
         null,
         null,
         null,
         null,
         null,
         null,
         null
        ],
        [
         "37",
         null,
         null,
         null,
         null,
         null,
         null,
         null,
         null,
         null
        ],
        [
         "38",
         null,
         null,
         null,
         null,
         null,
         null,
         null,
         null,
         null
        ],
        [
         "39",
         null,
         null,
         null,
         null,
         null,
         null,
         null,
         null,
         null
        ],
        [
         "40",
         null,
         null,
         null,
         null,
         null,
         null,
         null,
         null,
         null
        ],
        [
         "41",
         null,
         null,
         null,
         null,
         null,
         null,
         null,
         null,
         null
        ],
        [
         "42",
         null,
         null,
         null,
         null,
         null,
         null,
         null,
         null,
         null
        ],
        [
         "43",
         null,
         null,
         null,
         null,
         null,
         null,
         null,
         null,
         null
        ],
        [
         "44",
         null,
         null,
         null,
         null,
         null,
         null,
         null,
         null,
         null
        ],
        [
         "45",
         null,
         null,
         null,
         null,
         null,
         null,
         null,
         null,
         null
        ],
        [
         "46",
         null,
         null,
         null,
         null,
         null,
         null,
         null,
         null,
         null
        ],
        [
         "47",
         null,
         null,
         null,
         null,
         null,
         null,
         null,
         null,
         null
        ],
        [
         "48",
         null,
         null,
         null,
         null,
         null,
         null,
         null,
         null,
         null
        ],
        [
         "49",
         null,
         null,
         null,
         null,
         null,
         null,
         null,
         null,
         null
        ]
       ],
       "shape": {
        "columns": 9,
        "rows": 499
       }
      },
      "text/html": [
       "<div>\n",
       "<style scoped>\n",
       "    .dataframe tbody tr th:only-of-type {\n",
       "        vertical-align: middle;\n",
       "    }\n",
       "\n",
       "    .dataframe tbody tr th {\n",
       "        vertical-align: top;\n",
       "    }\n",
       "\n",
       "    .dataframe thead th {\n",
       "        text-align: right;\n",
       "    }\n",
       "</style>\n",
       "<table border=\"1\" class=\"dataframe\">\n",
       "  <thead>\n",
       "    <tr style=\"text-align: right;\">\n",
       "      <th></th>\n",
       "      <th>brand</th>\n",
       "      <th>year</th>\n",
       "      <th>price_rub</th>\n",
       "      <th>city</th>\n",
       "      <th>link</th>\n",
       "      <th>eng_type</th>\n",
       "      <th>hp</th>\n",
       "      <th>drive_type</th>\n",
       "      <th>transmisson_type</th>\n",
       "    </tr>\n",
       "  </thead>\n",
       "  <tbody>\n",
       "    <tr>\n",
       "      <th>0</th>\n",
       "      <td>NaN</td>\n",
       "      <td>NaN</td>\n",
       "      <td>NaN</td>\n",
       "      <td>NaN</td>\n",
       "      <td>NaN</td>\n",
       "      <td>NaN</td>\n",
       "      <td>NaN</td>\n",
       "      <td>NaN</td>\n",
       "      <td>NaN</td>\n",
       "    </tr>\n",
       "    <tr>\n",
       "      <th>1</th>\n",
       "      <td>NaN</td>\n",
       "      <td>NaN</td>\n",
       "      <td>NaN</td>\n",
       "      <td>NaN</td>\n",
       "      <td>NaN</td>\n",
       "      <td>NaN</td>\n",
       "      <td>NaN</td>\n",
       "      <td>NaN</td>\n",
       "      <td>NaN</td>\n",
       "    </tr>\n",
       "    <tr>\n",
       "      <th>2</th>\n",
       "      <td>NaN</td>\n",
       "      <td>NaN</td>\n",
       "      <td>NaN</td>\n",
       "      <td>NaN</td>\n",
       "      <td>NaN</td>\n",
       "      <td>NaN</td>\n",
       "      <td>NaN</td>\n",
       "      <td>NaN</td>\n",
       "      <td>NaN</td>\n",
       "    </tr>\n",
       "    <tr>\n",
       "      <th>3</th>\n",
       "      <td>NaN</td>\n",
       "      <td>NaN</td>\n",
       "      <td>NaN</td>\n",
       "      <td>NaN</td>\n",
       "      <td>NaN</td>\n",
       "      <td>NaN</td>\n",
       "      <td>NaN</td>\n",
       "      <td>NaN</td>\n",
       "      <td>NaN</td>\n",
       "    </tr>\n",
       "    <tr>\n",
       "      <th>4</th>\n",
       "      <td>NaN</td>\n",
       "      <td>NaN</td>\n",
       "      <td>NaN</td>\n",
       "      <td>NaN</td>\n",
       "      <td>NaN</td>\n",
       "      <td>NaN</td>\n",
       "      <td>NaN</td>\n",
       "      <td>NaN</td>\n",
       "      <td>NaN</td>\n",
       "    </tr>\n",
       "    <tr>\n",
       "      <th>...</th>\n",
       "      <td>...</td>\n",
       "      <td>...</td>\n",
       "      <td>...</td>\n",
       "      <td>...</td>\n",
       "      <td>...</td>\n",
       "      <td>...</td>\n",
       "      <td>...</td>\n",
       "      <td>...</td>\n",
       "      <td>...</td>\n",
       "    </tr>\n",
       "    <tr>\n",
       "      <th>494</th>\n",
       "      <td>NaN</td>\n",
       "      <td>NaN</td>\n",
       "      <td>NaN</td>\n",
       "      <td>NaN</td>\n",
       "      <td>NaN</td>\n",
       "      <td>NaN</td>\n",
       "      <td>NaN</td>\n",
       "      <td>NaN</td>\n",
       "      <td>NaN</td>\n",
       "    </tr>\n",
       "    <tr>\n",
       "      <th>495</th>\n",
       "      <td>NaN</td>\n",
       "      <td>NaN</td>\n",
       "      <td>NaN</td>\n",
       "      <td>NaN</td>\n",
       "      <td>NaN</td>\n",
       "      <td>NaN</td>\n",
       "      <td>NaN</td>\n",
       "      <td>NaN</td>\n",
       "      <td>NaN</td>\n",
       "    </tr>\n",
       "    <tr>\n",
       "      <th>496</th>\n",
       "      <td>NaN</td>\n",
       "      <td>NaN</td>\n",
       "      <td>NaN</td>\n",
       "      <td>NaN</td>\n",
       "      <td>NaN</td>\n",
       "      <td>NaN</td>\n",
       "      <td>NaN</td>\n",
       "      <td>NaN</td>\n",
       "      <td>NaN</td>\n",
       "    </tr>\n",
       "    <tr>\n",
       "      <th>497</th>\n",
       "      <td>NaN</td>\n",
       "      <td>NaN</td>\n",
       "      <td>NaN</td>\n",
       "      <td>NaN</td>\n",
       "      <td>NaN</td>\n",
       "      <td>NaN</td>\n",
       "      <td>NaN</td>\n",
       "      <td>NaN</td>\n",
       "      <td>NaN</td>\n",
       "    </tr>\n",
       "    <tr>\n",
       "      <th>498</th>\n",
       "      <td>NaN</td>\n",
       "      <td>NaN</td>\n",
       "      <td>NaN</td>\n",
       "      <td>NaN</td>\n",
       "      <td>NaN</td>\n",
       "      <td>NaN</td>\n",
       "      <td>NaN</td>\n",
       "      <td>NaN</td>\n",
       "      <td>NaN</td>\n",
       "    </tr>\n",
       "  </tbody>\n",
       "</table>\n",
       "<p>499 rows × 9 columns</p>\n",
       "</div>"
      ],
      "text/plain": [
       "    brand year price_rub city link eng_type   hp drive_type transmisson_type\n",
       "0     NaN  NaN       NaN  NaN  NaN      NaN  NaN        NaN              NaN\n",
       "1     NaN  NaN       NaN  NaN  NaN      NaN  NaN        NaN              NaN\n",
       "2     NaN  NaN       NaN  NaN  NaN      NaN  NaN        NaN              NaN\n",
       "3     NaN  NaN       NaN  NaN  NaN      NaN  NaN        NaN              NaN\n",
       "4     NaN  NaN       NaN  NaN  NaN      NaN  NaN        NaN              NaN\n",
       "..    ...  ...       ...  ...  ...      ...  ...        ...              ...\n",
       "494   NaN  NaN       NaN  NaN  NaN      NaN  NaN        NaN              NaN\n",
       "495   NaN  NaN       NaN  NaN  NaN      NaN  NaN        NaN              NaN\n",
       "496   NaN  NaN       NaN  NaN  NaN      NaN  NaN        NaN              NaN\n",
       "497   NaN  NaN       NaN  NaN  NaN      NaN  NaN        NaN              NaN\n",
       "498   NaN  NaN       NaN  NaN  NaN      NaN  NaN        NaN              NaN\n",
       "\n",
       "[499 rows x 9 columns]"
      ]
     },
     "execution_count": 717,
     "metadata": {},
     "output_type": "execute_result"
    }
   ],
   "source": [
    "df.where(df['eng_type'] == 'механика')"
   ]
  },
  {
   "cell_type": "code",
   "execution_count": 718,
   "metadata": {},
   "outputs": [
    {
     "data": {
      "text/plain": [
       "1"
      ]
     },
     "execution_count": 718,
     "metadata": {},
     "output_type": "execute_result"
    }
   ],
   "source": [
    "df['drive_type'].nunique()"
   ]
  },
  {
   "cell_type": "code",
   "execution_count": 719,
   "metadata": {},
   "outputs": [
    {
     "data": {
      "text/plain": [
       "array([' передний'], dtype=object)"
      ]
     },
     "execution_count": 719,
     "metadata": {},
     "output_type": "execute_result"
    }
   ],
   "source": [
    "df['drive_type'].unique()"
   ]
  },
  {
   "cell_type": "code",
   "execution_count": 720,
   "metadata": {},
   "outputs": [
    {
     "data": {
      "text/plain": [
       "3"
      ]
     },
     "execution_count": 720,
     "metadata": {},
     "output_type": "execute_result"
    }
   ],
   "source": [
    "df['transmisson_type'].nunique()"
   ]
  },
  {
   "cell_type": "code",
   "execution_count": 721,
   "metadata": {},
   "outputs": [
    {
     "data": {
      "text/plain": [
       "array([' вариатор', ' механика', ' автомат'], dtype=object)"
      ]
     },
     "execution_count": 721,
     "metadata": {},
     "output_type": "execute_result"
    }
   ],
   "source": [
    "df['transmisson_type'].unique()"
   ]
  },
  {
   "cell_type": "markdown",
   "metadata": {},
   "source": [
    "Заменим значения 'автомат' на 'АКПП' и 'механика' на 'МКПП' в столбце transmisson_type."
   ]
  },
  {
   "cell_type": "code",
   "execution_count": 722,
   "metadata": {},
   "outputs": [],
   "source": [
    "df['transmisson_type'] = df['transmisson_type'].replace(' автомат','АКПП')\n",
    "df['transmisson_type'] = df['transmisson_type'].replace(' механика','МКПП')\n",
    "df['transmisson_type'] = df['transmisson_type'].str.strip()"
   ]
  },
  {
   "cell_type": "markdown",
   "metadata": {},
   "source": [
    "Преобразуем типы собранных данных:"
   ]
  },
  {
   "cell_type": "code",
   "execution_count": 723,
   "metadata": {},
   "outputs": [],
   "source": [
    "df['brand'] = df['brand'].astype('str')\n",
    "df['year'] = df['year'].astype('int')\n",
    "df['price_rub'] = df['price_rub'].str.replace('\\xa0','').astype('int')\n",
    "df['city'] = df['city'].astype('str')\n",
    "df['eng_type'] = df['eng_type'].astype('str')\n",
    "df['hp'] = df['hp'].astype('int')\n",
    "df['drive_type'] = df['year'].astype('str')\n",
    "df['transmisson_type'] = df['transmisson_type'].astype('str')"
   ]
  },
  {
   "cell_type": "code",
   "execution_count": 724,
   "metadata": {},
   "outputs": [
    {
     "name": "stdout",
     "output_type": "stream",
     "text": [
      "<class 'pandas.core.frame.DataFrame'>\n",
      "RangeIndex: 499 entries, 0 to 498\n",
      "Data columns (total 9 columns):\n",
      " #   Column            Non-Null Count  Dtype \n",
      "---  ------            --------------  ----- \n",
      " 0   brand             499 non-null    object\n",
      " 1   year              499 non-null    int32 \n",
      " 2   price_rub         499 non-null    int32 \n",
      " 3   city              499 non-null    object\n",
      " 4   link              499 non-null    object\n",
      " 5   eng_type          499 non-null    object\n",
      " 6   hp                499 non-null    int32 \n",
      " 7   drive_type        499 non-null    object\n",
      " 8   transmisson_type  499 non-null    object\n",
      "dtypes: int32(3), object(6)\n",
      "memory usage: 29.4+ KB\n"
     ]
    }
   ],
   "source": [
    "df.info()"
   ]
  },
  {
   "cell_type": "code",
   "execution_count": 725,
   "metadata": {},
   "outputs": [
    {
     "data": {
      "application/vnd.microsoft.datawrangler.viewer.v0+json": {
       "columns": [
        {
         "name": "city",
         "rawType": "object",
         "type": "string"
        },
        {
         "name": "price_rub",
         "rawType": "int32",
         "type": "integer"
        }
       ],
       "conversionMethod": "pd.DataFrame",
       "ref": "a35800fd-e528-4a28-8671-1c4bf5e87b28",
       "rows": [
        [
         "Симферополь",
         "21503000"
        ],
        [
         "Омск",
         "20875000"
        ],
        [
         "Волгоград",
         "13492000"
        ],
        [
         "Кемерово",
         "9480998"
        ],
        [
         "Тюмень",
         "8269000"
        ],
        [
         "Краснодар",
         "7375000"
        ],
        [
         "Челябинск",
         "6161000"
        ],
        [
         "Севастополь",
         "6080000"
        ],
        [
         "Екатеринбург",
         "5628000"
        ],
        [
         "Саратов",
         "5184000"
        ],
        [
         "Санкт-Петербург",
         "4977000"
        ],
        [
         "Владивосток",
         "4950000"
        ],
        [
         "Барнаул",
         "4831000"
        ],
        [
         "Оренбург",
         "3524000"
        ],
        [
         "Воронеж",
         "3438000"
        ],
        [
         "Феодосия",
         "3325000"
        ],
        [
         "Уфа",
         "3265800"
        ],
        [
         "Москва",
         "2919000"
        ],
        [
         "Джанкой",
         "2729000"
        ],
        [
         "Самара",
         "2679710"
        ],
        [
         "Пермь",
         "2679000"
        ],
        [
         "Красноярск",
         "2675000"
        ],
        [
         "Стерлитамак",
         "2447000"
        ],
        [
         "Сургут",
         "2350000"
        ],
        [
         "Пенза",
         "2325000"
        ],
        [
         "Минск",
         "2066000"
        ],
        [
         "Петрозаводск",
         "1940000"
        ],
        [
         "Волжский",
         "1850000"
        ],
        [
         "Приморский",
         "1745000"
        ],
        [
         "Анапа",
         "1740000"
        ],
        [
         "Ставрополь",
         "1605000"
        ],
        [
         "Казань",
         "1602150"
        ],
        [
         "Чебоксары",
         "1599000"
        ],
        [
         "Вологда",
         "1584000"
        ],
        [
         "Ишим",
         "1560000"
        ],
        [
         "Орск",
         "1555000"
        ],
        [
         "Альметьевск",
         "1511600"
        ],
        [
         "Новосибирск",
         "1500000"
        ],
        [
         "Астрахань",
         "1443900"
        ],
        [
         "Таганрог",
         "1339900"
        ],
        [
         "Нижневартовск",
         "1310000"
        ],
        [
         "Шахты",
         "1272000"
        ],
        [
         "Керчь",
         "1270000"
        ],
        [
         "Аксай",
         "1265000"
        ],
        [
         "Бахчисарай",
         "1250000"
        ],
        [
         "Муравленко",
         "1250000"
        ],
        [
         "Набережные Челны",
         "1221900"
        ],
        [
         "Гомель",
         "1204000"
        ],
        [
         "Серпухов",
         "1140000"
        ],
        [
         "Белгород",
         "1120000"
        ]
       ],
       "shape": {
        "columns": 1,
        "rows": 169
       }
      },
      "text/html": [
       "<div>\n",
       "<style scoped>\n",
       "    .dataframe tbody tr th:only-of-type {\n",
       "        vertical-align: middle;\n",
       "    }\n",
       "\n",
       "    .dataframe tbody tr th {\n",
       "        vertical-align: top;\n",
       "    }\n",
       "\n",
       "    .dataframe thead th {\n",
       "        text-align: right;\n",
       "    }\n",
       "</style>\n",
       "<table border=\"1\" class=\"dataframe\">\n",
       "  <thead>\n",
       "    <tr style=\"text-align: right;\">\n",
       "      <th></th>\n",
       "      <th>price_rub</th>\n",
       "    </tr>\n",
       "    <tr>\n",
       "      <th>city</th>\n",
       "      <th></th>\n",
       "    </tr>\n",
       "  </thead>\n",
       "  <tbody>\n",
       "    <tr>\n",
       "      <th>Симферополь</th>\n",
       "      <td>21503000</td>\n",
       "    </tr>\n",
       "    <tr>\n",
       "      <th>Омск</th>\n",
       "      <td>20875000</td>\n",
       "    </tr>\n",
       "    <tr>\n",
       "      <th>Волгоград</th>\n",
       "      <td>13492000</td>\n",
       "    </tr>\n",
       "    <tr>\n",
       "      <th>Кемерово</th>\n",
       "      <td>9480998</td>\n",
       "    </tr>\n",
       "    <tr>\n",
       "      <th>Тюмень</th>\n",
       "      <td>8269000</td>\n",
       "    </tr>\n",
       "    <tr>\n",
       "      <th>...</th>\n",
       "      <td>...</td>\n",
       "    </tr>\n",
       "    <tr>\n",
       "      <th>Демидов</th>\n",
       "      <td>250000</td>\n",
       "    </tr>\n",
       "    <tr>\n",
       "      <th>Сергиев Посад</th>\n",
       "      <td>249000</td>\n",
       "    </tr>\n",
       "    <tr>\n",
       "      <th>Онохино</th>\n",
       "      <td>150000</td>\n",
       "    </tr>\n",
       "    <tr>\n",
       "      <th>Подольск</th>\n",
       "      <td>115000</td>\n",
       "    </tr>\n",
       "    <tr>\n",
       "      <th>Буинск</th>\n",
       "      <td>115000</td>\n",
       "    </tr>\n",
       "  </tbody>\n",
       "</table>\n",
       "<p>169 rows × 1 columns</p>\n",
       "</div>"
      ],
      "text/plain": [
       "               price_rub\n",
       "city                    \n",
       "Симферополь     21503000\n",
       "Омск            20875000\n",
       "Волгоград       13492000\n",
       "Кемерово         9480998\n",
       "Тюмень           8269000\n",
       "...                  ...\n",
       "Демидов           250000\n",
       "Сергиев Посад     249000\n",
       "Онохино           150000\n",
       "Подольск          115000\n",
       "Буинск            115000\n",
       "\n",
       "[169 rows x 1 columns]"
      ]
     },
     "execution_count": 725,
     "metadata": {},
     "output_type": "execute_result"
    }
   ],
   "source": [
    "df.groupby('city')['price_rub'].sum().to_frame().sort_values('price_rub', ascending=False)"
   ]
  },
  {
   "cell_type": "code",
   "execution_count": 726,
   "metadata": {},
   "outputs": [
    {
     "data": {
      "application/vnd.microsoft.datawrangler.viewer.v0+json": {
       "columns": [
        {
         "name": "city",
         "rawType": "object",
         "type": "string"
        },
        {
         "name": "price_rub",
         "rawType": "float64",
         "type": "float"
        }
       ],
       "conversionMethod": "pd.DataFrame",
       "ref": "98b5594f-b81e-4d1f-b13b-4e825d890c11",
       "rows": [
        [
         "Владивосток",
         "1650000.0"
        ],
        [
         "Муравленко",
         "1250000.0"
        ],
        [
         "Серпухов",
         "1140000.0"
        ],
        [
         "Калининград",
         "1099000.0"
        ],
        [
         "Нижнекамск",
         "950000.0"
        ],
        [
         "Волжский",
         "925000.0"
        ],
        [
         "Красноярск",
         "891666.6666666666"
        ],
        [
         "Бугульма",
         "857000.0"
        ],
        [
         "Каспийск",
         "820000.0"
        ],
        [
         "Сальск",
         "799900.0"
        ],
        [
         "Армянск",
         "765000.0"
        ],
        [
         "Нижнегорский",
         "750000.0"
        ],
        [
         "Красноперекопск",
         "750000.0"
        ],
        [
         "Чита",
         "750000.0"
        ],
        [
         "Астрахань",
         "721950.0"
        ],
        [
         "Междуреченск",
         "710000.0"
        ],
        [
         "Красногвардейское",
         "700000.0"
        ],
        [
         "Минск",
         "688666.6666666666"
        ],
        [
         "Джанкой",
         "682250.0"
        ],
        [
         "Ялта",
         "670000.0"
        ],
        [
         "Таганрог",
         "669950.0"
        ],
        [
         "Кущевская",
         "666666.0"
        ],
        [
         "Феодосия",
         "665000.0"
        ],
        [
         "Долгопрудный",
         "650000.0"
        ],
        [
         "Ленино",
         "650000.0"
        ],
        [
         "Крымск",
         "650000.0"
        ],
        [
         "Мамонтово",
         "650000.0"
        ],
        [
         "Белово",
         "650000.0"
        ],
        [
         "Шахты",
         "636000.0"
        ],
        [
         "Кировское",
         "635000.0"
        ],
        [
         "Керчь",
         "635000.0"
        ],
        [
         "Аксай",
         "632500.0"
        ],
        [
         "Симферополь",
         "632441.1764705882"
        ],
        [
         "Бахчисарай",
         "625000.0"
        ],
        [
         "Севастополь",
         "608000.0"
        ],
        [
         "Барнаул",
         "603875.0"
        ],
        [
         "Гомель",
         "602000.0"
        ],
        [
         "Нальчик",
         "600000.0"
        ],
        [
         "Майкоп",
         "600000.0"
        ],
        [
         "Кунашак",
         "600000.0"
        ],
        [
         "Черноморское",
         "599999.0"
        ],
        [
         "Новочеркасск",
         "590000.0"
        ],
        [
         "Сургут",
         "587500.0"
        ],
        [
         "Гуково",
         "585000.0"
        ],
        [
         "Москва",
         "583800.0"
        ],
        [
         "Приморский",
         "581666.6666666666"
        ],
        [
         "Пенза",
         "581250.0"
        ],
        [
         "Анапа",
         "580000.0"
        ],
        [
         "Брянск",
         "580000.0"
        ],
        [
         "Саратов",
         "576000.0"
        ]
       ],
       "shape": {
        "columns": 1,
        "rows": 169
       }
      },
      "text/html": [
       "<div>\n",
       "<style scoped>\n",
       "    .dataframe tbody tr th:only-of-type {\n",
       "        vertical-align: middle;\n",
       "    }\n",
       "\n",
       "    .dataframe tbody tr th {\n",
       "        vertical-align: top;\n",
       "    }\n",
       "\n",
       "    .dataframe thead th {\n",
       "        text-align: right;\n",
       "    }\n",
       "</style>\n",
       "<table border=\"1\" class=\"dataframe\">\n",
       "  <thead>\n",
       "    <tr style=\"text-align: right;\">\n",
       "      <th></th>\n",
       "      <th>price_rub</th>\n",
       "    </tr>\n",
       "    <tr>\n",
       "      <th>city</th>\n",
       "      <th></th>\n",
       "    </tr>\n",
       "  </thead>\n",
       "  <tbody>\n",
       "    <tr>\n",
       "      <th>Владивосток</th>\n",
       "      <td>1650000.0</td>\n",
       "    </tr>\n",
       "    <tr>\n",
       "      <th>Муравленко</th>\n",
       "      <td>1250000.0</td>\n",
       "    </tr>\n",
       "    <tr>\n",
       "      <th>Серпухов</th>\n",
       "      <td>1140000.0</td>\n",
       "    </tr>\n",
       "    <tr>\n",
       "      <th>Калининград</th>\n",
       "      <td>1099000.0</td>\n",
       "    </tr>\n",
       "    <tr>\n",
       "      <th>Нижнекамск</th>\n",
       "      <td>950000.0</td>\n",
       "    </tr>\n",
       "    <tr>\n",
       "      <th>...</th>\n",
       "      <td>...</td>\n",
       "    </tr>\n",
       "    <tr>\n",
       "      <th>Демидов</th>\n",
       "      <td>250000.0</td>\n",
       "    </tr>\n",
       "    <tr>\n",
       "      <th>Сергиев Посад</th>\n",
       "      <td>249000.0</td>\n",
       "    </tr>\n",
       "    <tr>\n",
       "      <th>Онохино</th>\n",
       "      <td>150000.0</td>\n",
       "    </tr>\n",
       "    <tr>\n",
       "      <th>Подольск</th>\n",
       "      <td>115000.0</td>\n",
       "    </tr>\n",
       "    <tr>\n",
       "      <th>Буинск</th>\n",
       "      <td>115000.0</td>\n",
       "    </tr>\n",
       "  </tbody>\n",
       "</table>\n",
       "<p>169 rows × 1 columns</p>\n",
       "</div>"
      ],
      "text/plain": [
       "               price_rub\n",
       "city                    \n",
       "Владивосток    1650000.0\n",
       "Муравленко     1250000.0\n",
       "Серпухов       1140000.0\n",
       "Калининград    1099000.0\n",
       "Нижнекамск      950000.0\n",
       "...                  ...\n",
       "Демидов         250000.0\n",
       "Сергиев Посад   249000.0\n",
       "Онохино         150000.0\n",
       "Подольск        115000.0\n",
       "Буинск          115000.0\n",
       "\n",
       "[169 rows x 1 columns]"
      ]
     },
     "execution_count": 726,
     "metadata": {},
     "output_type": "execute_result"
    }
   ],
   "source": [
    "df.groupby('city')['price_rub'].mean().to_frame().sort_values('price_rub', ascending=False)"
   ]
  },
  {
   "cell_type": "code",
   "execution_count": 727,
   "metadata": {},
   "outputs": [
    {
     "data": {
      "application/vnd.microsoft.datawrangler.viewer.v0+json": {
       "columns": [
        {
         "name": "city",
         "rawType": "object",
         "type": "string"
        },
        {
         "name": "brand",
         "rawType": "int64",
         "type": "integer"
        }
       ],
       "conversionMethod": "pd.DataFrame",
       "ref": "977cb63b-3019-44af-b4ce-0efb7b49031c",
       "rows": [
        [
         "Омск",
         "43"
        ],
        [
         "Симферополь",
         "34"
        ],
        [
         "Волгоград",
         "26"
        ],
        [
         "Кемерово",
         "21"
        ],
        [
         "Тюмень",
         "20"
        ],
        [
         "Екатеринбург",
         "15"
        ],
        [
         "Краснодар",
         "15"
        ],
        [
         "Челябинск",
         "15"
        ],
        [
         "Севастополь",
         "10"
        ],
        [
         "Санкт-Петербург",
         "10"
        ],
        [
         "Оренбург",
         "9"
        ],
        [
         "Саратов",
         "9"
        ],
        [
         "Барнаул",
         "8"
        ],
        [
         "Пермь",
         "7"
        ],
        [
         "Воронеж",
         "6"
        ],
        [
         "Уфа",
         "6"
        ],
        [
         "Самара",
         "6"
        ],
        [
         "Казань",
         "5"
        ],
        [
         "Стерлитамак",
         "5"
        ],
        [
         "Феодосия",
         "5"
        ],
        [
         "Москва",
         "5"
        ],
        [
         "Ишим",
         "4"
        ],
        [
         "Петрозаводск",
         "4"
        ],
        [
         "Сургут",
         "4"
        ],
        [
         "Джанкой",
         "4"
        ],
        [
         "Пенза",
         "4"
        ],
        [
         "Вологда",
         "3"
        ],
        [
         "Новосибирск",
         "3"
        ],
        [
         "Ставрополь",
         "3"
        ],
        [
         "Нижневартовск",
         "3"
        ],
        [
         "Набережные Челны",
         "3"
        ],
        [
         "Альметьевск",
         "3"
        ],
        [
         "Анапа",
         "3"
        ],
        [
         "Приморский",
         "3"
        ],
        [
         "Орск",
         "3"
        ],
        [
         "Владивосток",
         "3"
        ],
        [
         "Минск",
         "3"
        ],
        [
         "Курган",
         "3"
        ],
        [
         "Чебоксары",
         "3"
        ],
        [
         "Белгород",
         "3"
        ],
        [
         "Красноярск",
         "3"
        ],
        [
         "Пятигорск",
         "2"
        ],
        [
         "Кропоткин",
         "2"
        ],
        [
         "Киров",
         "2"
        ],
        [
         "Керчь",
         "2"
        ],
        [
         "Минеральные Воды",
         "2"
        ],
        [
         "Первоуральск",
         "2"
        ],
        [
         "Новокузнецк",
         "2"
        ],
        [
         "Абакан",
         "2"
        ],
        [
         "Гомель",
         "2"
        ]
       ],
       "shape": {
        "columns": 1,
        "rows": 169
       }
      },
      "text/html": [
       "<div>\n",
       "<style scoped>\n",
       "    .dataframe tbody tr th:only-of-type {\n",
       "        vertical-align: middle;\n",
       "    }\n",
       "\n",
       "    .dataframe tbody tr th {\n",
       "        vertical-align: top;\n",
       "    }\n",
       "\n",
       "    .dataframe thead th {\n",
       "        text-align: right;\n",
       "    }\n",
       "</style>\n",
       "<table border=\"1\" class=\"dataframe\">\n",
       "  <thead>\n",
       "    <tr style=\"text-align: right;\">\n",
       "      <th></th>\n",
       "      <th>brand</th>\n",
       "    </tr>\n",
       "    <tr>\n",
       "      <th>city</th>\n",
       "      <th></th>\n",
       "    </tr>\n",
       "  </thead>\n",
       "  <tbody>\n",
       "    <tr>\n",
       "      <th>Омск</th>\n",
       "      <td>43</td>\n",
       "    </tr>\n",
       "    <tr>\n",
       "      <th>Симферополь</th>\n",
       "      <td>34</td>\n",
       "    </tr>\n",
       "    <tr>\n",
       "      <th>Волгоград</th>\n",
       "      <td>26</td>\n",
       "    </tr>\n",
       "    <tr>\n",
       "      <th>Кемерово</th>\n",
       "      <td>21</td>\n",
       "    </tr>\n",
       "    <tr>\n",
       "      <th>Тюмень</th>\n",
       "      <td>20</td>\n",
       "    </tr>\n",
       "    <tr>\n",
       "      <th>...</th>\n",
       "      <td>...</td>\n",
       "    </tr>\n",
       "    <tr>\n",
       "      <th>Красноперекопск</th>\n",
       "      <td>1</td>\n",
       "    </tr>\n",
       "    <tr>\n",
       "      <th>Красногвардейское</th>\n",
       "      <td>1</td>\n",
       "    </tr>\n",
       "    <tr>\n",
       "      <th>Кировское</th>\n",
       "      <td>1</td>\n",
       "    </tr>\n",
       "    <tr>\n",
       "      <th>Кингисепп</th>\n",
       "      <td>1</td>\n",
       "    </tr>\n",
       "    <tr>\n",
       "      <th>Ясный</th>\n",
       "      <td>1</td>\n",
       "    </tr>\n",
       "  </tbody>\n",
       "</table>\n",
       "<p>169 rows × 1 columns</p>\n",
       "</div>"
      ],
      "text/plain": [
       "                   brand\n",
       "city                    \n",
       "Омск                  43\n",
       "Симферополь           34\n",
       "Волгоград             26\n",
       "Кемерово              21\n",
       "Тюмень                20\n",
       "...                  ...\n",
       "Красноперекопск        1\n",
       "Красногвардейское      1\n",
       "Кировское              1\n",
       "Кингисепп              1\n",
       "Ясный                  1\n",
       "\n",
       "[169 rows x 1 columns]"
      ]
     },
     "execution_count": 727,
     "metadata": {},
     "output_type": "execute_result"
    }
   ],
   "source": [
    "df.groupby('city')['brand'].count().to_frame().sort_values('brand', ascending=False)"
   ]
  },
  {
   "cell_type": "code",
   "execution_count": 728,
   "metadata": {},
   "outputs": [
    {
     "data": {
      "application/vnd.microsoft.datawrangler.viewer.v0+json": {
       "columns": [
        {
         "name": "transmisson_type",
         "rawType": "object",
         "type": "string"
        },
        {
         "name": "brand",
         "rawType": "int64",
         "type": "integer"
        }
       ],
       "conversionMethod": "pd.DataFrame",
       "ref": "b78f0cfe-be27-471f-8516-3879136ebb27",
       "rows": [
        [
         "МКПП",
         "393"
        ],
        [
         "вариатор",
         "104"
        ],
        [
         "АКПП",
         "2"
        ]
       ],
       "shape": {
        "columns": 1,
        "rows": 3
       }
      },
      "text/html": [
       "<div>\n",
       "<style scoped>\n",
       "    .dataframe tbody tr th:only-of-type {\n",
       "        vertical-align: middle;\n",
       "    }\n",
       "\n",
       "    .dataframe tbody tr th {\n",
       "        vertical-align: top;\n",
       "    }\n",
       "\n",
       "    .dataframe thead th {\n",
       "        text-align: right;\n",
       "    }\n",
       "</style>\n",
       "<table border=\"1\" class=\"dataframe\">\n",
       "  <thead>\n",
       "    <tr style=\"text-align: right;\">\n",
       "      <th></th>\n",
       "      <th>brand</th>\n",
       "    </tr>\n",
       "    <tr>\n",
       "      <th>transmisson_type</th>\n",
       "      <th></th>\n",
       "    </tr>\n",
       "  </thead>\n",
       "  <tbody>\n",
       "    <tr>\n",
       "      <th>МКПП</th>\n",
       "      <td>393</td>\n",
       "    </tr>\n",
       "    <tr>\n",
       "      <th>вариатор</th>\n",
       "      <td>104</td>\n",
       "    </tr>\n",
       "    <tr>\n",
       "      <th>АКПП</th>\n",
       "      <td>2</td>\n",
       "    </tr>\n",
       "  </tbody>\n",
       "</table>\n",
       "</div>"
      ],
      "text/plain": [
       "                  brand\n",
       "transmisson_type       \n",
       "МКПП                393\n",
       "вариатор            104\n",
       "АКПП                  2"
      ]
     },
     "execution_count": 728,
     "metadata": {},
     "output_type": "execute_result"
    }
   ],
   "source": [
    "df.groupby('transmisson_type')['brand'].count().to_frame().sort_values('brand', ascending=False)"
   ]
  },
  {
   "cell_type": "code",
   "execution_count": 729,
   "metadata": {},
   "outputs": [
    {
     "data": {
      "application/vnd.microsoft.datawrangler.viewer.v0+json": {
       "columns": [
        {
         "name": "transmisson_type",
         "rawType": "object",
         "type": "string"
        },
        {
         "name": "price_rub",
         "rawType": "float64",
         "type": "float"
        }
       ],
       "conversionMethod": "pd.DataFrame",
       "ref": "94ca4193-7c6b-4b5d-bd93-5374affa3ad6",
       "rows": [
        [
         "вариатор",
         "595351.0"
        ],
        [
         "МКПП",
         "487473.0"
        ],
        [
         "АКПП",
         "325000.0"
        ]
       ],
       "shape": {
        "columns": 1,
        "rows": 3
       }
      },
      "text/html": [
       "<div>\n",
       "<style scoped>\n",
       "    .dataframe tbody tr th:only-of-type {\n",
       "        vertical-align: middle;\n",
       "    }\n",
       "\n",
       "    .dataframe tbody tr th {\n",
       "        vertical-align: top;\n",
       "    }\n",
       "\n",
       "    .dataframe thead th {\n",
       "        text-align: right;\n",
       "    }\n",
       "</style>\n",
       "<table border=\"1\" class=\"dataframe\">\n",
       "  <thead>\n",
       "    <tr style=\"text-align: right;\">\n",
       "      <th></th>\n",
       "      <th>price_rub</th>\n",
       "    </tr>\n",
       "    <tr>\n",
       "      <th>transmisson_type</th>\n",
       "      <th></th>\n",
       "    </tr>\n",
       "  </thead>\n",
       "  <tbody>\n",
       "    <tr>\n",
       "      <th>вариатор</th>\n",
       "      <td>595351.0</td>\n",
       "    </tr>\n",
       "    <tr>\n",
       "      <th>МКПП</th>\n",
       "      <td>487473.0</td>\n",
       "    </tr>\n",
       "    <tr>\n",
       "      <th>АКПП</th>\n",
       "      <td>325000.0</td>\n",
       "    </tr>\n",
       "  </tbody>\n",
       "</table>\n",
       "</div>"
      ],
      "text/plain": [
       "                  price_rub\n",
       "transmisson_type           \n",
       "вариатор           595351.0\n",
       "МКПП               487473.0\n",
       "АКПП               325000.0"
      ]
     },
     "execution_count": 729,
     "metadata": {},
     "output_type": "execute_result"
    }
   ],
   "source": [
    "df.groupby('transmisson_type')['price_rub'].mean().round().to_frame().sort_values('price_rub', ascending=False)"
   ]
  },
  {
   "cell_type": "code",
   "execution_count": 731,
   "metadata": {},
   "outputs": [
    {
     "data": {
      "application/vnd.microsoft.datawrangler.viewer.v0+json": {
       "columns": [
        {
         "name": "year",
         "rawType": "int32",
         "type": "integer"
        },
        {
         "name": "price_rub",
         "rawType": "float64",
         "type": "float"
        }
       ],
       "conversionMethod": "pd.DataFrame",
       "ref": "f0bb01e5-de1d-4d9c-ae81-9ae03c3ebc44",
       "rows": [
        [
         "2020",
         "1224167.0"
        ],
        [
         "2019",
         "1033308.0"
        ],
        [
         "2018",
         "879667.0"
        ],
        [
         "2016",
         "779384.0"
        ],
        [
         "2014",
         "480498.0"
        ],
        [
         "2011",
         "466667.0"
        ],
        [
         "2013",
         "464783.0"
        ],
        [
         "2015",
         "441250.0"
        ],
        [
         "2012",
         "406160.0"
        ]
       ],
       "shape": {
        "columns": 1,
        "rows": 9
       }
      },
      "text/html": [
       "<div>\n",
       "<style scoped>\n",
       "    .dataframe tbody tr th:only-of-type {\n",
       "        vertical-align: middle;\n",
       "    }\n",
       "\n",
       "    .dataframe tbody tr th {\n",
       "        vertical-align: top;\n",
       "    }\n",
       "\n",
       "    .dataframe thead th {\n",
       "        text-align: right;\n",
       "    }\n",
       "</style>\n",
       "<table border=\"1\" class=\"dataframe\">\n",
       "  <thead>\n",
       "    <tr style=\"text-align: right;\">\n",
       "      <th></th>\n",
       "      <th>price_rub</th>\n",
       "    </tr>\n",
       "    <tr>\n",
       "      <th>year</th>\n",
       "      <th></th>\n",
       "    </tr>\n",
       "  </thead>\n",
       "  <tbody>\n",
       "    <tr>\n",
       "      <th>2020</th>\n",
       "      <td>1224167.0</td>\n",
       "    </tr>\n",
       "    <tr>\n",
       "      <th>2019</th>\n",
       "      <td>1033308.0</td>\n",
       "    </tr>\n",
       "    <tr>\n",
       "      <th>2018</th>\n",
       "      <td>879667.0</td>\n",
       "    </tr>\n",
       "    <tr>\n",
       "      <th>2016</th>\n",
       "      <td>779384.0</td>\n",
       "    </tr>\n",
       "    <tr>\n",
       "      <th>2014</th>\n",
       "      <td>480498.0</td>\n",
       "    </tr>\n",
       "    <tr>\n",
       "      <th>2011</th>\n",
       "      <td>466667.0</td>\n",
       "    </tr>\n",
       "    <tr>\n",
       "      <th>2013</th>\n",
       "      <td>464783.0</td>\n",
       "    </tr>\n",
       "    <tr>\n",
       "      <th>2015</th>\n",
       "      <td>441250.0</td>\n",
       "    </tr>\n",
       "    <tr>\n",
       "      <th>2012</th>\n",
       "      <td>406160.0</td>\n",
       "    </tr>\n",
       "  </tbody>\n",
       "</table>\n",
       "</div>"
      ],
      "text/plain": [
       "      price_rub\n",
       "year           \n",
       "2020  1224167.0\n",
       "2019  1033308.0\n",
       "2018   879667.0\n",
       "2016   779384.0\n",
       "2014   480498.0\n",
       "2011   466667.0\n",
       "2013   464783.0\n",
       "2015   441250.0\n",
       "2012   406160.0"
      ]
     },
     "execution_count": 731,
     "metadata": {},
     "output_type": "execute_result"
    }
   ],
   "source": [
    "df.groupby('year')['price_rub'].mean().round().to_frame().sort_values('price_rub', ascending=False)"
   ]
  },
  {
   "cell_type": "markdown",
   "metadata": {},
   "source": [
    "Посчитаем разницу в процентах по количеству автомобилей и средней цене относительно параметра КПП:"
   ]
  },
  {
   "cell_type": "code",
   "execution_count": 730,
   "metadata": {},
   "outputs": [
    {
     "name": "stdout",
     "output_type": "stream",
     "text": [
      "Разница между средним количеством АМ с АКПП и МКПП 29.17 %\n",
      "Разница между средней стоимостью АМ с АКПП и МКПП 34.33 %\n"
     ]
    }
   ],
   "source": [
    "mean_count_perc = round(100 - (17*100)/24,2) \n",
    "mean_sale_perc = round(100 - (843053.0*100)/1283846.0, 2)\n",
    "print(f'Разница между средним количеством АМ с АКПП и МКПП {mean_count_perc} %')\n",
    "print(f'Разница между средней стоимостью АМ с АКПП и МКПП {mean_sale_perc} %')"
   ]
  },
  {
   "cell_type": "code",
   "execution_count": null,
   "metadata": {},
   "outputs": [],
   "source": []
  }
 ],
 "metadata": {
  "kernelspec": {
   "display_name": "auto_env",
   "language": "python",
   "name": "python3"
  },
  "language_info": {
   "codemirror_mode": {
    "name": "ipython",
    "version": 3
   },
   "file_extension": ".py",
   "mimetype": "text/x-python",
   "name": "python",
   "nbconvert_exporter": "python",
   "pygments_lexer": "ipython3",
   "version": "3.12.0"
  }
 },
 "nbformat": 4,
 "nbformat_minor": 2
}
